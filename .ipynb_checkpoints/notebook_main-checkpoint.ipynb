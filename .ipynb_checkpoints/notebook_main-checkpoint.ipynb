{
 "cells": [
  {
   "cell_type": "markdown",
   "metadata": {},
   "source": [
    "# Imports"
   ]
  },
  {
   "cell_type": "code",
   "execution_count": 23,
   "metadata": {
    "ExecuteTime": {
     "end_time": "2020-08-06T22:40:31.671977Z",
     "start_time": "2020-08-06T22:40:31.667978Z"
    },
    "nteract": {
     "transient": {
      "deleting": false
     }
    },
    "scrolled": true
   },
   "outputs": [],
   "source": [
    "import pandas as pd\n",
    "import time\n",
    "from tqdm import tqdm\n",
    "from IPython.display import clear_output\n",
    "\n",
    "import matplotlib.pyplot as plt\n",
    "import seaborn as sns\n",
    "\n",
    "import tweepy\n",
    "from grabel_auth import auth #Autenticação grabel"
   ]
  },
  {
   "cell_type": "markdown",
   "metadata": {},
   "source": [
    "# API object"
   ]
  },
  {
   "cell_type": "code",
   "execution_count": 24,
   "metadata": {
    "ExecuteTime": {
     "end_time": "2020-08-06T22:40:33.158981Z",
     "start_time": "2020-08-06T22:40:33.155983Z"
    },
    "nteract": {
     "transient": {
      "deleting": false
     }
    }
   },
   "outputs": [],
   "source": [
    "tt = auth()"
   ]
  },
  {
   "cell_type": "markdown",
   "metadata": {},
   "source": [
    "# Functions"
   ]
  },
  {
   "cell_type": "markdown",
   "metadata": {},
   "source": [
    "## get_followers_id()"
   ]
  },
  {
   "cell_type": "markdown",
   "metadata": {
    "ExecuteTime": {
     "end_time": "2020-08-06T22:40:34.784057Z",
     "start_time": "2020-08-06T22:40:34.780044Z"
    },
    "nteract": {
     "transient": {
      "deleting": false
     }
    }
   },
   "source": [
    "def get_followers_ids(perfil_analisado):\n",
    "    '''Recebe um nome de perfil do twitter e retorna serie com ids dos seguidores'''\n",
    "    ids = []\n",
    "    for page in tweepy.Cursor(tt.followers_ids, \n",
    "                              screen_name=perfil_analisado).pages():\n",
    "        ids.extend(page)\n",
    "        time.sleep(2)\n",
    "    \n",
    "\n",
    "    return pd.DataFrame(ids, columns=['followers_ids'])['followers_ids']"
   ]
  },
  {
   "cell_type": "markdown",
   "metadata": {},
   "source": [
    "* [AUTENTICAÇÕES DO TWITTER](https://bhaskarvk.github.io/2015/01/how-to-use-twitters-search-rest-api-most-effectively./#:~:text=Application%20only%20auth%20has%20higher,Auth%20using%20the%20Tweepy%20API.)"
   ]
  },
  {
   "cell_type": "code",
   "execution_count": 35,
   "metadata": {
    "ExecuteTime": {
     "end_time": "2020-08-06T22:55:19.901901Z",
     "start_time": "2020-08-06T22:55:19.896903Z"
    }
   },
   "outputs": [],
   "source": [
    "def get_followers_ids(perfil_analisado):\n",
    "    '''Recebe um nome de perfil do twitter e retorna serie com ids dos seguidores'''\n",
    "    ids = []\n",
    "    my_pages = tweepy.Cursor(tt.followers_ids, screen_name=perfil_analisado).pages()\n",
    "    while True:\n",
    "        try:\n",
    "            page = my_pages.next()\n",
    "            ids.extend(page)\n",
    "            time.sleep(2)\n",
    "        except tweepy.TweepError:\n",
    "            #except RateLimitError\n",
    "                time.sleep(60 * 15)\n",
    "                continue\n",
    "        except StopIteration:\n",
    "            break\n",
    "  \n",
    "    return pd.DataFrame(ids, columns=['followers_ids'])['followers_ids']\n"
   ]
  },
  {
   "cell_type": "markdown",
   "metadata": {},
   "source": [
    "* Exemplo:"
   ]
  },
  {
   "cell_type": "code",
   "execution_count": 36,
   "metadata": {
    "ExecuteTime": {
     "end_time": "2020-08-06T22:55:26.929443Z",
     "start_time": "2020-08-06T22:55:24.484995Z"
    }
   },
   "outputs": [
    {
     "data": {
      "text/plain": [
       "171"
      ]
     },
     "execution_count": 36,
     "metadata": {},
     "output_type": "execute_result"
    }
   ],
   "source": [
    "followers = get_followers_ids('grabel')\n",
    "len(followers)"
   ]
  },
  {
   "cell_type": "code",
   "execution_count": 37,
   "metadata": {
    "ExecuteTime": {
     "end_time": "2020-08-06T23:11:36.209527Z",
     "start_time": "2020-08-06T22:55:29.300931Z"
    }
   },
   "outputs": [
    {
     "data": {
      "text/plain": [
       "124768"
      ]
     },
     "execution_count": 37,
     "metadata": {},
     "output_type": "execute_result"
    }
   ],
   "source": [
    "followers = get_followers_ids('TVMaresol')\n",
    "len(followers)"
   ]
  },
  {
   "cell_type": "markdown",
   "metadata": {},
   "source": [
    "## get_users_data()"
   ]
  },
  {
   "cell_type": "code",
   "execution_count": 57,
   "metadata": {
    "ExecuteTime": {
     "end_time": "2020-08-06T21:23:04.947536Z",
     "start_time": "2020-08-06T21:23:04.942557Z"
    }
   },
   "outputs": [],
   "source": [
    "def get_users_data(lista_ids):\n",
    "    '''Recebe lista ou serie de ids e retorna nomes de perfis do twitter'''\n",
    "    followers = pd.DataFrame()\n",
    "    \n",
    "    for tt_id in tqdm(lista_ids):\n",
    "        df = pd.DataFrame(tt.get_user(tt_id)._json)\n",
    "        df = df.loc[['description'],['id_str','name','screen_name','profile_image_url_https',\n",
    "                                     'description','statuses_count','friends_count','followers_count',\n",
    "                                     'favourites_count','location','created_at','protected','lang']].rename(\n",
    "                                                                            columns={\n",
    "                                                                                      'statuses_count':'tweets_count',\n",
    "                                                                                      'id_str':'profile_id'\n",
    "                                                                                      })\n",
    "\n",
    "        followers = pd.concat([followers, df], axis = 0, ignore_index=True)  \n",
    "        time.sleep(1)\n",
    "        \n",
    "    return followers"
   ]
  },
  {
   "cell_type": "markdown",
   "metadata": {},
   "source": [
    "* Exemplo:"
   ]
  },
  {
   "cell_type": "code",
   "execution_count": 58,
   "metadata": {
    "ExecuteTime": {
     "end_time": "2020-08-06T21:23:09.377654Z",
     "start_time": "2020-08-06T21:23:06.401047Z"
    }
   },
   "outputs": [
    {
     "name": "stderr",
     "output_type": "stream",
     "text": [
      "100%|████████████████████████████████████████████████████████████████████████████████████| 2/2 [00:02<00:00,  1.47s/it]\n"
     ]
    },
    {
     "data": {
      "text/html": [
       "<div>\n",
       "<style scoped>\n",
       "    .dataframe tbody tr th:only-of-type {\n",
       "        vertical-align: middle;\n",
       "    }\n",
       "\n",
       "    .dataframe tbody tr th {\n",
       "        vertical-align: top;\n",
       "    }\n",
       "\n",
       "    .dataframe thead th {\n",
       "        text-align: right;\n",
       "    }\n",
       "</style>\n",
       "<table border=\"1\" class=\"dataframe\">\n",
       "  <thead>\n",
       "    <tr style=\"text-align: right;\">\n",
       "      <th></th>\n",
       "      <th>profile_id</th>\n",
       "      <th>name</th>\n",
       "      <th>screen_name</th>\n",
       "      <th>profile_image_url_https</th>\n",
       "      <th>description</th>\n",
       "      <th>tweets_count</th>\n",
       "      <th>friends_count</th>\n",
       "      <th>followers_count</th>\n",
       "      <th>favourites_count</th>\n",
       "      <th>location</th>\n",
       "      <th>created_at</th>\n",
       "      <th>protected</th>\n",
       "      <th>lang</th>\n",
       "    </tr>\n",
       "  </thead>\n",
       "  <tbody>\n",
       "    <tr>\n",
       "      <th>0</th>\n",
       "      <td>1291458785853284352</td>\n",
       "      <td>Jornal News Botucatu</td>\n",
       "      <td>BotucatuNews</td>\n",
       "      <td>https://pbs.twimg.com/profile_images/129145920...</td>\n",
       "      <td>⌚𝐉𝐨𝐫𝐧𝐚𝐥 𝐛𝐨𝐭𝐮𝐜𝐚𝐭𝐮⌚\\n\\n ☭ noticias atualizadas\\n...</td>\n",
       "      <td>3</td>\n",
       "      <td>34</td>\n",
       "      <td>2</td>\n",
       "      <td>3</td>\n",
       "      <td></td>\n",
       "      <td>Thu Aug 06 19:39:13 +0000 2020</td>\n",
       "      <td>False</td>\n",
       "      <td>None</td>\n",
       "    </tr>\n",
       "    <tr>\n",
       "      <th>1</th>\n",
       "      <td>975585204441174016</td>\n",
       "      <td>Diego de Oliveira</td>\n",
       "      <td>jose_goday</td>\n",
       "      <td>https://pbs.twimg.com/profile_images/128030276...</td>\n",
       "      <td>Escritor e barraqueiro digital</td>\n",
       "      <td>2712</td>\n",
       "      <td>676</td>\n",
       "      <td>1165</td>\n",
       "      <td>3181</td>\n",
       "      <td></td>\n",
       "      <td>Mon Mar 19 04:10:13 +0000 2018</td>\n",
       "      <td>False</td>\n",
       "      <td>None</td>\n",
       "    </tr>\n",
       "  </tbody>\n",
       "</table>\n",
       "</div>"
      ],
      "text/plain": [
       "            profile_id                  name   screen_name  \\\n",
       "0  1291458785853284352  Jornal News Botucatu  BotucatuNews   \n",
       "1   975585204441174016     Diego de Oliveira    jose_goday   \n",
       "\n",
       "                             profile_image_url_https  \\\n",
       "0  https://pbs.twimg.com/profile_images/129145920...   \n",
       "1  https://pbs.twimg.com/profile_images/128030276...   \n",
       "\n",
       "                                         description  tweets_count  \\\n",
       "0  ⌚𝐉𝐨𝐫𝐧𝐚𝐥 𝐛𝐨𝐭𝐮𝐜𝐚𝐭𝐮⌚\\n\\n ☭ noticias atualizadas\\n...             3   \n",
       "1                     Escritor e barraqueiro digital          2712   \n",
       "\n",
       "   friends_count  followers_count  favourites_count location  \\\n",
       "0             34                2                 3            \n",
       "1            676             1165              3181            \n",
       "\n",
       "                       created_at  protected  lang  \n",
       "0  Thu Aug 06 19:39:13 +0000 2020      False  None  \n",
       "1  Mon Mar 19 04:10:13 +0000 2018      False  None  "
      ]
     },
     "execution_count": 58,
     "metadata": {},
     "output_type": "execute_result"
    }
   ],
   "source": [
    "df_users = get_users_data(followers[:2])\n",
    "df_users.head()"
   ]
  },
  {
   "cell_type": "markdown",
   "metadata": {},
   "source": [
    "## get_followers_data()"
   ]
  },
  {
   "cell_type": "code",
   "execution_count": 59,
   "metadata": {
    "ExecuteTime": {
     "end_time": "2020-08-06T21:23:20.021175Z",
     "start_time": "2020-08-06T21:23:20.017178Z"
    }
   },
   "outputs": [],
   "source": [
    "def get_followers_data(perfil_analisado):\n",
    "    '''Recebe perfil e retorna dataframe com dados das páginas dos seguidores'''\n",
    "    df_fol = get_followers_ids(perfil_analisado)\n",
    "    return get_users_data(df_fol)"
   ]
  },
  {
   "cell_type": "markdown",
   "metadata": {},
   "source": [
    "* Exemplo:"
   ]
  },
  {
   "cell_type": "code",
   "execution_count": 60,
   "metadata": {
    "ExecuteTime": {
     "end_time": "2020-08-06T21:27:50.335397Z",
     "start_time": "2020-08-06T21:23:32.117292Z"
    }
   },
   "outputs": [
    {
     "name": "stderr",
     "output_type": "stream",
     "text": [
      "100%|████████████████████████████████████████████████████████████████████████████████| 171/171 [04:15<00:00,  1.49s/it]\n"
     ]
    },
    {
     "data": {
      "text/html": [
       "<style  type=\"text/css\" >\n",
       "</style><table id=\"T_ae084e70_d82b_11ea_9eb8_001a7dda7110\" ><thead>    <tr>        <th class=\"blank level0\" ></th>        <th class=\"col_heading level0 col0\" >profile_id</th>        <th class=\"col_heading level0 col1\" >name</th>        <th class=\"col_heading level0 col2\" >screen_name</th>        <th class=\"col_heading level0 col3\" >profile_image_url_https</th>        <th class=\"col_heading level0 col4\" >description</th>        <th class=\"col_heading level0 col5\" >tweets_count</th>        <th class=\"col_heading level0 col6\" >friends_count</th>        <th class=\"col_heading level0 col7\" >followers_count</th>        <th class=\"col_heading level0 col8\" >favourites_count</th>        <th class=\"col_heading level0 col9\" >location</th>        <th class=\"col_heading level0 col10\" >created_at</th>        <th class=\"col_heading level0 col11\" >protected</th>        <th class=\"col_heading level0 col12\" >lang</th>    </tr></thead><tbody>\n",
       "                <tr>\n",
       "                        <th id=\"T_ae084e70_d82b_11ea_9eb8_001a7dda7110level0_row0\" class=\"row_heading level0 row0\" >0</th>\n",
       "                        <td id=\"T_ae084e70_d82b_11ea_9eb8_001a7dda7110row0_col0\" class=\"data row0 col0\" >1291458785853284352</td>\n",
       "                        <td id=\"T_ae084e70_d82b_11ea_9eb8_001a7dda7110row0_col1\" class=\"data row0 col1\" >Jornal News Botucatu</td>\n",
       "                        <td id=\"T_ae084e70_d82b_11ea_9eb8_001a7dda7110row0_col2\" class=\"data row0 col2\" >BotucatuNews</td>\n",
       "                        <td id=\"T_ae084e70_d82b_11ea_9eb8_001a7dda7110row0_col3\" class=\"data row0 col3\" >https://pbs.twimg.com/profile_images/1291459202955739136/o0qZ3lLs_normal.jpg</td>\n",
       "                        <td id=\"T_ae084e70_d82b_11ea_9eb8_001a7dda7110row0_col4\" class=\"data row0 col4\" >⌚𝐉𝐨𝐫𝐧𝐚𝐥 𝐛𝐨𝐭𝐮𝐜𝐚𝐭𝐮⌚\n",
       "\n",
       " ☭ noticias atualizadas\n",
       "\n",
       "☎faltou alguma noticia? mande nos!☎\n",
       "☭ jornalnewsbotucatu@gmail.com ☭</td>\n",
       "                        <td id=\"T_ae084e70_d82b_11ea_9eb8_001a7dda7110row0_col5\" class=\"data row0 col5\" >3</td>\n",
       "                        <td id=\"T_ae084e70_d82b_11ea_9eb8_001a7dda7110row0_col6\" class=\"data row0 col6\" >34</td>\n",
       "                        <td id=\"T_ae084e70_d82b_11ea_9eb8_001a7dda7110row0_col7\" class=\"data row0 col7\" >2</td>\n",
       "                        <td id=\"T_ae084e70_d82b_11ea_9eb8_001a7dda7110row0_col8\" class=\"data row0 col8\" >3</td>\n",
       "                        <td id=\"T_ae084e70_d82b_11ea_9eb8_001a7dda7110row0_col9\" class=\"data row0 col9\" ></td>\n",
       "                        <td id=\"T_ae084e70_d82b_11ea_9eb8_001a7dda7110row0_col10\" class=\"data row0 col10\" >Thu Aug 06 19:39:13 +0000 2020</td>\n",
       "                        <td id=\"T_ae084e70_d82b_11ea_9eb8_001a7dda7110row0_col11\" class=\"data row0 col11\" >False</td>\n",
       "                        <td id=\"T_ae084e70_d82b_11ea_9eb8_001a7dda7110row0_col12\" class=\"data row0 col12\" >None</td>\n",
       "            </tr>\n",
       "            <tr>\n",
       "                        <th id=\"T_ae084e70_d82b_11ea_9eb8_001a7dda7110level0_row1\" class=\"row_heading level0 row1\" >1</th>\n",
       "                        <td id=\"T_ae084e70_d82b_11ea_9eb8_001a7dda7110row1_col0\" class=\"data row1 col0\" >975585204441174016</td>\n",
       "                        <td id=\"T_ae084e70_d82b_11ea_9eb8_001a7dda7110row1_col1\" class=\"data row1 col1\" >Diego de Oliveira</td>\n",
       "                        <td id=\"T_ae084e70_d82b_11ea_9eb8_001a7dda7110row1_col2\" class=\"data row1 col2\" >jose_goday</td>\n",
       "                        <td id=\"T_ae084e70_d82b_11ea_9eb8_001a7dda7110row1_col3\" class=\"data row1 col3\" >https://pbs.twimg.com/profile_images/1280302766553006080/9idPzzJL_normal.jpg</td>\n",
       "                        <td id=\"T_ae084e70_d82b_11ea_9eb8_001a7dda7110row1_col4\" class=\"data row1 col4\" >Escritor e barraqueiro digital</td>\n",
       "                        <td id=\"T_ae084e70_d82b_11ea_9eb8_001a7dda7110row1_col5\" class=\"data row1 col5\" >2712</td>\n",
       "                        <td id=\"T_ae084e70_d82b_11ea_9eb8_001a7dda7110row1_col6\" class=\"data row1 col6\" >676</td>\n",
       "                        <td id=\"T_ae084e70_d82b_11ea_9eb8_001a7dda7110row1_col7\" class=\"data row1 col7\" >1165</td>\n",
       "                        <td id=\"T_ae084e70_d82b_11ea_9eb8_001a7dda7110row1_col8\" class=\"data row1 col8\" >3181</td>\n",
       "                        <td id=\"T_ae084e70_d82b_11ea_9eb8_001a7dda7110row1_col9\" class=\"data row1 col9\" ></td>\n",
       "                        <td id=\"T_ae084e70_d82b_11ea_9eb8_001a7dda7110row1_col10\" class=\"data row1 col10\" >Mon Mar 19 04:10:13 +0000 2018</td>\n",
       "                        <td id=\"T_ae084e70_d82b_11ea_9eb8_001a7dda7110row1_col11\" class=\"data row1 col11\" >False</td>\n",
       "                        <td id=\"T_ae084e70_d82b_11ea_9eb8_001a7dda7110row1_col12\" class=\"data row1 col12\" >None</td>\n",
       "            </tr>\n",
       "            <tr>\n",
       "                        <th id=\"T_ae084e70_d82b_11ea_9eb8_001a7dda7110level0_row2\" class=\"row_heading level0 row2\" >2</th>\n",
       "                        <td id=\"T_ae084e70_d82b_11ea_9eb8_001a7dda7110row2_col0\" class=\"data row2 col0\" >123057045</td>\n",
       "                        <td id=\"T_ae084e70_d82b_11ea_9eb8_001a7dda7110row2_col1\" class=\"data row2 col1\" >exaustinha</td>\n",
       "                        <td id=\"T_ae084e70_d82b_11ea_9eb8_001a7dda7110row2_col2\" class=\"data row2 col2\" >rubacaozin</td>\n",
       "                        <td id=\"T_ae084e70_d82b_11ea_9eb8_001a7dda7110row2_col3\" class=\"data row2 col3\" >https://pbs.twimg.com/profile_images/1287814896982392832/o6ORPRSe_normal.jpg</td>\n",
       "                        <td id=\"T_ae084e70_d82b_11ea_9eb8_001a7dda7110row2_col4\" class=\"data row2 col4\" >bota o vídeo no mudo e toca tame impala</td>\n",
       "                        <td id=\"T_ae084e70_d82b_11ea_9eb8_001a7dda7110row2_col5\" class=\"data row2 col5\" >12175</td>\n",
       "                        <td id=\"T_ae084e70_d82b_11ea_9eb8_001a7dda7110row2_col6\" class=\"data row2 col6\" >472</td>\n",
       "                        <td id=\"T_ae084e70_d82b_11ea_9eb8_001a7dda7110row2_col7\" class=\"data row2 col7\" >1018</td>\n",
       "                        <td id=\"T_ae084e70_d82b_11ea_9eb8_001a7dda7110row2_col8\" class=\"data row2 col8\" >27349</td>\n",
       "                        <td id=\"T_ae084e70_d82b_11ea_9eb8_001a7dda7110row2_col9\" class=\"data row2 col9\" >Brazil, IN</td>\n",
       "                        <td id=\"T_ae084e70_d82b_11ea_9eb8_001a7dda7110row2_col10\" class=\"data row2 col10\" >Sun Mar 14 21:11:41 +0000 2010</td>\n",
       "                        <td id=\"T_ae084e70_d82b_11ea_9eb8_001a7dda7110row2_col11\" class=\"data row2 col11\" >False</td>\n",
       "                        <td id=\"T_ae084e70_d82b_11ea_9eb8_001a7dda7110row2_col12\" class=\"data row2 col12\" >None</td>\n",
       "            </tr>\n",
       "            <tr>\n",
       "                        <th id=\"T_ae084e70_d82b_11ea_9eb8_001a7dda7110level0_row3\" class=\"row_heading level0 row3\" >3</th>\n",
       "                        <td id=\"T_ae084e70_d82b_11ea_9eb8_001a7dda7110row3_col0\" class=\"data row3 col0\" >1284136441984036865</td>\n",
       "                        <td id=\"T_ae084e70_d82b_11ea_9eb8_001a7dda7110row3_col1\" class=\"data row3 col1\" >Lilly Lazuli 🌛✨</td>\n",
       "                        <td id=\"T_ae084e70_d82b_11ea_9eb8_001a7dda7110row3_col2\" class=\"data row3 col2\" >LazuliLilly</td>\n",
       "                        <td id=\"T_ae084e70_d82b_11ea_9eb8_001a7dda7110row3_col3\" class=\"data row3 col3\" >https://pbs.twimg.com/profile_images/1284138099535159297/ve5jnCIx_normal.jpg</td>\n",
       "                        <td id=\"T_ae084e70_d82b_11ea_9eb8_001a7dda7110row3_col4\" class=\"data row3 col4\" >Self-proclaimed indecisive overthinker.\n",
       "27 y.</td>\n",
       "                        <td id=\"T_ae084e70_d82b_11ea_9eb8_001a7dda7110row3_col5\" class=\"data row3 col5\" >33</td>\n",
       "                        <td id=\"T_ae084e70_d82b_11ea_9eb8_001a7dda7110row3_col6\" class=\"data row3 col6\" >33</td>\n",
       "                        <td id=\"T_ae084e70_d82b_11ea_9eb8_001a7dda7110row3_col7\" class=\"data row3 col7\" >16</td>\n",
       "                        <td id=\"T_ae084e70_d82b_11ea_9eb8_001a7dda7110row3_col8\" class=\"data row3 col8\" >130</td>\n",
       "                        <td id=\"T_ae084e70_d82b_11ea_9eb8_001a7dda7110row3_col9\" class=\"data row3 col9\" ></td>\n",
       "                        <td id=\"T_ae084e70_d82b_11ea_9eb8_001a7dda7110row3_col10\" class=\"data row3 col10\" >Fri Jul 17 14:42:48 +0000 2020</td>\n",
       "                        <td id=\"T_ae084e70_d82b_11ea_9eb8_001a7dda7110row3_col11\" class=\"data row3 col11\" >True</td>\n",
       "                        <td id=\"T_ae084e70_d82b_11ea_9eb8_001a7dda7110row3_col12\" class=\"data row3 col12\" >None</td>\n",
       "            </tr>\n",
       "            <tr>\n",
       "                        <th id=\"T_ae084e70_d82b_11ea_9eb8_001a7dda7110level0_row4\" class=\"row_heading level0 row4\" >4</th>\n",
       "                        <td id=\"T_ae084e70_d82b_11ea_9eb8_001a7dda7110row4_col0\" class=\"data row4 col0\" >426770605</td>\n",
       "                        <td id=\"T_ae084e70_d82b_11ea_9eb8_001a7dda7110row4_col1\" class=\"data row4 col1\" >Arte_pincel</td>\n",
       "                        <td id=\"T_ae084e70_d82b_11ea_9eb8_001a7dda7110row4_col2\" class=\"data row4 col2\" >Arte_Pincel</td>\n",
       "                        <td id=\"T_ae084e70_d82b_11ea_9eb8_001a7dda7110row4_col3\" class=\"data row4 col3\" >https://pbs.twimg.com/profile_images/1284265135259910145/MiLJbIh4_normal.jpg</td>\n",
       "                        <td id=\"T_ae084e70_d82b_11ea_9eb8_001a7dda7110row4_col4\" class=\"data row4 col4\" >AS ARTE PLASTICAS DOS LAPES A VÉRBERTY LIBRAS E ARTE VIA FRANÇA PRIAS DE @ARTE_PINCEL ITÁLIA OBRIGADO !!!!</td>\n",
       "                        <td id=\"T_ae084e70_d82b_11ea_9eb8_001a7dda7110row4_col5\" class=\"data row4 col5\" >947</td>\n",
       "                        <td id=\"T_ae084e70_d82b_11ea_9eb8_001a7dda7110row4_col6\" class=\"data row4 col6\" >2599</td>\n",
       "                        <td id=\"T_ae084e70_d82b_11ea_9eb8_001a7dda7110row4_col7\" class=\"data row4 col7\" >424</td>\n",
       "                        <td id=\"T_ae084e70_d82b_11ea_9eb8_001a7dda7110row4_col8\" class=\"data row4 col8\" >628</td>\n",
       "                        <td id=\"T_ae084e70_d82b_11ea_9eb8_001a7dda7110row4_col9\" class=\"data row4 col9\" >Campina Grande, Brasil</td>\n",
       "                        <td id=\"T_ae084e70_d82b_11ea_9eb8_001a7dda7110row4_col10\" class=\"data row4 col10\" >Fri Dec 02 17:32:45 +0000 2011</td>\n",
       "                        <td id=\"T_ae084e70_d82b_11ea_9eb8_001a7dda7110row4_col11\" class=\"data row4 col11\" >False</td>\n",
       "                        <td id=\"T_ae084e70_d82b_11ea_9eb8_001a7dda7110row4_col12\" class=\"data row4 col12\" >None</td>\n",
       "            </tr>\n",
       "    </tbody></table>"
      ],
      "text/plain": [
       "<pandas.io.formats.style.Styler at 0x220546a6eb0>"
      ]
     },
     "execution_count": 60,
     "metadata": {},
     "output_type": "execute_result"
    }
   ],
   "source": [
    "df_followers = get_followers_data('grabel')\n",
    "df_followers.head().style"
   ]
  },
  {
   "cell_type": "markdown",
   "metadata": {},
   "source": [
    "## get_seguidores_iguais()"
   ]
  },
  {
   "cell_type": "code",
   "execution_count": 64,
   "metadata": {
    "ExecuteTime": {
     "end_time": "2020-08-06T21:30:21.296521Z",
     "start_time": "2020-08-06T21:30:21.289525Z"
    }
   },
   "outputs": [],
   "source": [
    "def get_seguidores_iguais(*tt_users):\n",
    "    '''Recebe nomes de perfis do twitter e retorna serie com seguidores em comum.'''\n",
    "    \n",
    "    tt_users = list(tt_users) \n",
    "    print('Perfis a filtrar:', len(tt_users))\n",
    "    if len(tt_users)>=2:\n",
    "                    \n",
    "        fols_user1 = get_followers_ids(tt_users.pop(0))\n",
    "        \n",
    "        clear_output(wait=True)\n",
    "        print('Perfis a filtrar:', len(tt_users))\n",
    "        fols_user2 = get_followers_ids(tt_users.pop(0))\n",
    "        df_both = pd.merge(fols_user2, fols_user1, how = 'inner', on='followers_ids')\n",
    "        \n",
    "        while len(tt_users)>=1:\n",
    "            \n",
    "            clear_output(wait=True)\n",
    "            print('Perfis a filtrar:', len(tt_users))\n",
    "            \n",
    "            fols_userx = get_followers_ids(tt_users.pop(0))\n",
    "            df_both = pd.merge(df_both, fols_userx, how='inner', on ='followers_ids')\n",
    "            \n",
    "        clear_output(wait=True)\n",
    "        print('OK!')\n",
    "        print('Seguidores em comum: ', len(df_both))\n",
    "        \n",
    "    return df_both['followers_ids']  "
   ]
  },
  {
   "cell_type": "markdown",
   "metadata": {},
   "source": [
    "* Exemplo:"
   ]
  },
  {
   "cell_type": "code",
   "execution_count": 65,
   "metadata": {
    "ExecuteTime": {
     "end_time": "2020-08-06T21:30:56.785143Z",
     "start_time": "2020-08-06T21:30:46.949919Z"
    }
   },
   "outputs": [
    {
     "name": "stdout",
     "output_type": "stream",
     "text": [
      "OK!\n",
      "Seguidores em comum:  4\n"
     ]
    }
   ],
   "source": [
    "seguidores_em_comum = get_seguidores_iguais('grabel',\n",
    "                                            'mandielima', \n",
    "                                            'iasdoar', \n",
    "                                            'anaraissans'\n",
    "                                             )"
   ]
  },
  {
   "cell_type": "code",
   "execution_count": 66,
   "metadata": {
    "ExecuteTime": {
     "end_time": "2020-08-06T21:31:09.184723Z",
     "start_time": "2020-08-06T21:31:03.277448Z"
    }
   },
   "outputs": [
    {
     "name": "stderr",
     "output_type": "stream",
     "text": [
      "100%|████████████████████████████████████████████████████████████████████████████████████| 4/4 [00:05<00:00,  1.47s/it]\n"
     ]
    },
    {
     "data": {
      "text/html": [
       "<div>\n",
       "<style scoped>\n",
       "    .dataframe tbody tr th:only-of-type {\n",
       "        vertical-align: middle;\n",
       "    }\n",
       "\n",
       "    .dataframe tbody tr th {\n",
       "        vertical-align: top;\n",
       "    }\n",
       "\n",
       "    .dataframe thead th {\n",
       "        text-align: right;\n",
       "    }\n",
       "</style>\n",
       "<table border=\"1\" class=\"dataframe\">\n",
       "  <thead>\n",
       "    <tr style=\"text-align: right;\">\n",
       "      <th></th>\n",
       "      <th>profile_id</th>\n",
       "      <th>name</th>\n",
       "      <th>screen_name</th>\n",
       "      <th>profile_image_url_https</th>\n",
       "      <th>description</th>\n",
       "      <th>tweets_count</th>\n",
       "      <th>friends_count</th>\n",
       "      <th>followers_count</th>\n",
       "      <th>favourites_count</th>\n",
       "      <th>location</th>\n",
       "      <th>created_at</th>\n",
       "      <th>protected</th>\n",
       "      <th>lang</th>\n",
       "    </tr>\n",
       "  </thead>\n",
       "  <tbody>\n",
       "    <tr>\n",
       "      <th>0</th>\n",
       "      <td>158857500</td>\n",
       "      <td>Anakin Skywalker</td>\n",
       "      <td>jeronimoisabela</td>\n",
       "      <td>https://pbs.twimg.com/profile_images/290812783...</td>\n",
       "      <td></td>\n",
       "      <td>12313</td>\n",
       "      <td>421</td>\n",
       "      <td>487</td>\n",
       "      <td>13548</td>\n",
       "      <td></td>\n",
       "      <td>Wed Jun 23 21:05:31 +0000 2010</td>\n",
       "      <td>False</td>\n",
       "      <td>None</td>\n",
       "    </tr>\n",
       "    <tr>\n",
       "      <th>1</th>\n",
       "      <td>34309517</td>\n",
       "      <td>tsrd</td>\n",
       "      <td>tayase</td>\n",
       "      <td>https://pbs.twimg.com/profile_images/128213835...</td>\n",
       "      <td>.</td>\n",
       "      <td>19348</td>\n",
       "      <td>377</td>\n",
       "      <td>218</td>\n",
       "      <td>10194</td>\n",
       "      <td>João Pessoa, PB.</td>\n",
       "      <td>Wed Apr 22 15:57:02 +0000 2009</td>\n",
       "      <td>True</td>\n",
       "      <td>None</td>\n",
       "    </tr>\n",
       "    <tr>\n",
       "      <th>2</th>\n",
       "      <td>43043000</td>\n",
       "      <td>BemVS</td>\n",
       "      <td>bemlucas</td>\n",
       "      <td>https://pbs.twimg.com/profile_images/103991165...</td>\n",
       "      <td>o mal é bom e o Bem cruel</td>\n",
       "      <td>8587</td>\n",
       "      <td>584</td>\n",
       "      <td>543</td>\n",
       "      <td>29239</td>\n",
       "      <td>João Pessoa, Brasil</td>\n",
       "      <td>Thu May 28 04:01:11 +0000 2009</td>\n",
       "      <td>False</td>\n",
       "      <td>None</td>\n",
       "    </tr>\n",
       "    <tr>\n",
       "      <th>3</th>\n",
       "      <td>200278803</td>\n",
       "      <td>emo &amp; muito cult</td>\n",
       "      <td>paleshtrinha</td>\n",
       "      <td>https://pbs.twimg.com/profile_images/129108506...</td>\n",
       "      <td>milionária, linda, estylosa, simpática, preta ...</td>\n",
       "      <td>94237</td>\n",
       "      <td>250</td>\n",
       "      <td>336</td>\n",
       "      <td>33</td>\n",
       "      <td></td>\n",
       "      <td>Fri Oct 08 22:14:32 +0000 2010</td>\n",
       "      <td>True</td>\n",
       "      <td>None</td>\n",
       "    </tr>\n",
       "  </tbody>\n",
       "</table>\n",
       "</div>"
      ],
      "text/plain": [
       "  profile_id              name      screen_name  \\\n",
       "0  158857500  Anakin Skywalker  jeronimoisabela   \n",
       "1   34309517              tsrd           tayase   \n",
       "2   43043000             BemVS         bemlucas   \n",
       "3  200278803  emo & muito cult     paleshtrinha   \n",
       "\n",
       "                             profile_image_url_https  \\\n",
       "0  https://pbs.twimg.com/profile_images/290812783...   \n",
       "1  https://pbs.twimg.com/profile_images/128213835...   \n",
       "2  https://pbs.twimg.com/profile_images/103991165...   \n",
       "3  https://pbs.twimg.com/profile_images/129108506...   \n",
       "\n",
       "                                         description  tweets_count  \\\n",
       "0                                                            12313   \n",
       "1                                                  .         19348   \n",
       "2                          o mal é bom e o Bem cruel          8587   \n",
       "3  milionária, linda, estylosa, simpática, preta ...         94237   \n",
       "\n",
       "   friends_count  followers_count  favourites_count             location  \\\n",
       "0            421              487             13548                        \n",
       "1            377              218             10194     João Pessoa, PB.   \n",
       "2            584              543             29239  João Pessoa, Brasil   \n",
       "3            250              336                33                        \n",
       "\n",
       "                       created_at  protected  lang  \n",
       "0  Wed Jun 23 21:05:31 +0000 2010      False  None  \n",
       "1  Wed Apr 22 15:57:02 +0000 2009       True  None  \n",
       "2  Thu May 28 04:01:11 +0000 2009      False  None  \n",
       "3  Fri Oct 08 22:14:32 +0000 2010       True  None  "
      ]
     },
     "execution_count": 66,
     "metadata": {},
     "output_type": "execute_result"
    }
   ],
   "source": [
    "get_users_data(seguidores_em_comum) #Exibe os dados dos seguidores em comum"
   ]
  },
  {
   "cell_type": "markdown",
   "metadata": {},
   "source": [
    "## plot_tt_top()"
   ]
  },
  {
   "cell_type": "code",
   "execution_count": null,
   "metadata": {},
   "outputs": [],
   "source": [
    "def plot_tt_top(df = [], top=10, table = False):\n",
    "        \n",
    "    l = 55\n",
    "    h = min(top*2.2, 150)\n",
    "    cols = {'flls':'followers_count',\n",
    "            'frds':'friends_count',\n",
    "            'twts':'tweets_count',\n",
    "            'favs':'favourites_count'}\n",
    "    \n",
    "    ind = \"?\"\n",
    "    while ind not in cols.keys():\n",
    "        ind = input('''Digite um dos valores para organizar o plot:\n",
    "                       flls : número de seguidores;\n",
    "                       frds : número de amigos;\n",
    "                       twts : número de tweets;\n",
    "                       favs : número de favoritagens.\\n''')\n",
    "        if ind not in cols.keys():\n",
    "            print('Valor não aceito!\\n')\n",
    "    \n",
    "    param = cols.get(ind)\n",
    "    \n",
    "    df_plot = df.set_index('screen_name').nlargest(top, param)\n",
    "    df_plot.sort_values(param)[cols.values()].plot(kind='barh', \n",
    "                                                   figsize=[l, h], \n",
    "                                                   #width = .8,\n",
    "                                                   grid = True\n",
    "                                                    )\n",
    "    if table:\n",
    "            return df_plot[cols.values()].style.background_gradient(cmap='Greens')\n",
    "            \n",
    "    plt.title('Top {} por {}'.format(top, param))    \n",
    "    plt.ylabel('')\n",
    "    plt.show()"
   ]
  },
  {
   "cell_type": "markdown",
   "metadata": {},
   "source": [
    "* Exemplo:"
   ]
  },
  {
   "cell_type": "code",
   "execution_count": null,
   "metadata": {},
   "outputs": [],
   "source": [
    "df = get_users_data(seguidores_em_comum)\n",
    "\n",
    "plot_tt_top(df,            #Dataframe com dados do twitter \n",
    "            top = 5,       #Tamanho do top por parâmetro definido\n",
    "            table = False  #Exibe ou não tabela de resumo dos dados\n",
    "           )\n",
    "\n",
    "#PS.: Dois cliques para ampliar o gráfico!"
   ]
  },
  {
   "cell_type": "code",
   "execution_count": 33,
   "metadata": {
    "ExecuteTime": {
     "end_time": "2020-08-06T20:01:04.106190Z",
     "start_time": "2020-08-06T19:58:52.477631Z"
    }
   },
   "outputs": [
    {
     "ename": "TweepError",
     "evalue": "Twitter error response: status code = 429",
     "output_type": "error",
     "traceback": [
      "\u001b[1;31m---------------------------------------------------------------------------\u001b[0m",
      "\u001b[1;31mTweepError\u001b[0m                                Traceback (most recent call last)",
      "\u001b[1;32m<ipython-input-33-6ea7f1ab48cb>\u001b[0m in \u001b[0;36m<module>\u001b[1;34m\u001b[0m\n\u001b[0;32m      1\u001b[0m \u001b[0mtts\u001b[0m \u001b[1;33m=\u001b[0m \u001b[1;33m[\u001b[0m\u001b[1;33m]\u001b[0m\u001b[1;33m\u001b[0m\u001b[1;33m\u001b[0m\u001b[0m\n\u001b[1;32m----> 2\u001b[1;33m for tweet in tweepy.Cursor(tt.search,\n\u001b[0m\u001b[0;32m      3\u001b[0m                            \u001b[0mq\u001b[0m\u001b[1;33m=\u001b[0m\u001b[1;34m\"biscoito\"\u001b[0m\u001b[1;33m,\u001b[0m\u001b[1;33m\u001b[0m\u001b[1;33m\u001b[0m\u001b[0m\n\u001b[0;32m      4\u001b[0m                            \u001b[0msince\u001b[0m\u001b[1;33m=\u001b[0m\u001b[1;34m\"2020-08-05\"\u001b[0m\u001b[1;33m,\u001b[0m\u001b[1;33m\u001b[0m\u001b[1;33m\u001b[0m\u001b[0m\n\u001b[0;32m      5\u001b[0m                            \u001b[0muntil\u001b[0m\u001b[1;33m=\u001b[0m\u001b[1;34m\"2020-08-06\"\u001b[0m\u001b[1;33m,\u001b[0m\u001b[1;33m\u001b[0m\u001b[1;33m\u001b[0m\u001b[0m\n",
      "\u001b[1;32m~\\AppData\\Local\\Packages\\PythonSoftwareFoundation.Python.3.8_qbz5n2kfra8p0\\LocalCache\\local-packages\\Python38\\site-packages\\tweepy\\cursor.py\u001b[0m in \u001b[0;36m__next__\u001b[1;34m(self)\u001b[0m\n\u001b[0;32m     47\u001b[0m \u001b[1;33m\u001b[0m\u001b[0m\n\u001b[0;32m     48\u001b[0m     \u001b[1;32mdef\u001b[0m \u001b[0m__next__\u001b[0m\u001b[1;33m(\u001b[0m\u001b[0mself\u001b[0m\u001b[1;33m)\u001b[0m\u001b[1;33m:\u001b[0m\u001b[1;33m\u001b[0m\u001b[1;33m\u001b[0m\u001b[0m\n\u001b[1;32m---> 49\u001b[1;33m         \u001b[1;32mreturn\u001b[0m \u001b[0mself\u001b[0m\u001b[1;33m.\u001b[0m\u001b[0mnext\u001b[0m\u001b[1;33m(\u001b[0m\u001b[1;33m)\u001b[0m\u001b[1;33m\u001b[0m\u001b[1;33m\u001b[0m\u001b[0m\n\u001b[0m\u001b[0;32m     50\u001b[0m \u001b[1;33m\u001b[0m\u001b[0m\n\u001b[0;32m     51\u001b[0m     \u001b[1;32mdef\u001b[0m \u001b[0mnext\u001b[0m\u001b[1;33m(\u001b[0m\u001b[0mself\u001b[0m\u001b[1;33m)\u001b[0m\u001b[1;33m:\u001b[0m\u001b[1;33m\u001b[0m\u001b[1;33m\u001b[0m\u001b[0m\n",
      "\u001b[1;32m~\\AppData\\Local\\Packages\\PythonSoftwareFoundation.Python.3.8_qbz5n2kfra8p0\\LocalCache\\local-packages\\Python38\\site-packages\\tweepy\\cursor.py\u001b[0m in \u001b[0;36mnext\u001b[1;34m(self)\u001b[0m\n\u001b[0;32m    217\u001b[0m         \u001b[1;32mif\u001b[0m \u001b[0mself\u001b[0m\u001b[1;33m.\u001b[0m\u001b[0mcurrent_page\u001b[0m \u001b[1;32mis\u001b[0m \u001b[1;32mNone\u001b[0m \u001b[1;32mor\u001b[0m \u001b[0mself\u001b[0m\u001b[1;33m.\u001b[0m\u001b[0mpage_index\u001b[0m \u001b[1;33m==\u001b[0m \u001b[0mlen\u001b[0m\u001b[1;33m(\u001b[0m\u001b[0mself\u001b[0m\u001b[1;33m.\u001b[0m\u001b[0mcurrent_page\u001b[0m\u001b[1;33m)\u001b[0m \u001b[1;33m-\u001b[0m \u001b[1;36m1\u001b[0m\u001b[1;33m:\u001b[0m\u001b[1;33m\u001b[0m\u001b[1;33m\u001b[0m\u001b[0m\n\u001b[0;32m    218\u001b[0m             \u001b[1;31m# Reached end of current page, get the next page...\u001b[0m\u001b[1;33m\u001b[0m\u001b[1;33m\u001b[0m\u001b[1;33m\u001b[0m\u001b[0m\n\u001b[1;32m--> 219\u001b[1;33m             \u001b[0mself\u001b[0m\u001b[1;33m.\u001b[0m\u001b[0mcurrent_page\u001b[0m \u001b[1;33m=\u001b[0m \u001b[0mself\u001b[0m\u001b[1;33m.\u001b[0m\u001b[0mpage_iterator\u001b[0m\u001b[1;33m.\u001b[0m\u001b[0mnext\u001b[0m\u001b[1;33m(\u001b[0m\u001b[1;33m)\u001b[0m\u001b[1;33m\u001b[0m\u001b[1;33m\u001b[0m\u001b[0m\n\u001b[0m\u001b[0;32m    220\u001b[0m             \u001b[1;32mwhile\u001b[0m \u001b[0mlen\u001b[0m\u001b[1;33m(\u001b[0m\u001b[0mself\u001b[0m\u001b[1;33m.\u001b[0m\u001b[0mcurrent_page\u001b[0m\u001b[1;33m)\u001b[0m \u001b[1;33m==\u001b[0m \u001b[1;36m0\u001b[0m\u001b[1;33m:\u001b[0m\u001b[1;33m\u001b[0m\u001b[1;33m\u001b[0m\u001b[0m\n\u001b[0;32m    221\u001b[0m                 \u001b[0mself\u001b[0m\u001b[1;33m.\u001b[0m\u001b[0mcurrent_page\u001b[0m \u001b[1;33m=\u001b[0m \u001b[0mself\u001b[0m\u001b[1;33m.\u001b[0m\u001b[0mpage_iterator\u001b[0m\u001b[1;33m.\u001b[0m\u001b[0mnext\u001b[0m\u001b[1;33m(\u001b[0m\u001b[1;33m)\u001b[0m\u001b[1;33m\u001b[0m\u001b[1;33m\u001b[0m\u001b[0m\n",
      "\u001b[1;32m~\\AppData\\Local\\Packages\\PythonSoftwareFoundation.Python.3.8_qbz5n2kfra8p0\\LocalCache\\local-packages\\Python38\\site-packages\\tweepy\\cursor.py\u001b[0m in \u001b[0;36mnext\u001b[1;34m(self)\u001b[0m\n\u001b[0;32m    128\u001b[0m \u001b[1;33m\u001b[0m\u001b[0m\n\u001b[0;32m    129\u001b[0m         \u001b[1;32mif\u001b[0m \u001b[0mself\u001b[0m\u001b[1;33m.\u001b[0m\u001b[0mindex\u001b[0m \u001b[1;33m>=\u001b[0m \u001b[0mlen\u001b[0m\u001b[1;33m(\u001b[0m\u001b[0mself\u001b[0m\u001b[1;33m.\u001b[0m\u001b[0mresults\u001b[0m\u001b[1;33m)\u001b[0m \u001b[1;33m-\u001b[0m \u001b[1;36m1\u001b[0m\u001b[1;33m:\u001b[0m\u001b[1;33m\u001b[0m\u001b[1;33m\u001b[0m\u001b[0m\n\u001b[1;32m--> 130\u001b[1;33m             \u001b[0mdata\u001b[0m \u001b[1;33m=\u001b[0m \u001b[0mself\u001b[0m\u001b[1;33m.\u001b[0m\u001b[0mmethod\u001b[0m\u001b[1;33m(\u001b[0m\u001b[0mmax_id\u001b[0m\u001b[1;33m=\u001b[0m\u001b[0mself\u001b[0m\u001b[1;33m.\u001b[0m\u001b[0mmax_id\u001b[0m\u001b[1;33m,\u001b[0m \u001b[0mparser\u001b[0m\u001b[1;33m=\u001b[0m\u001b[0mRawParser\u001b[0m\u001b[1;33m(\u001b[0m\u001b[1;33m)\u001b[0m\u001b[1;33m,\u001b[0m \u001b[1;33m*\u001b[0m\u001b[0mself\u001b[0m\u001b[1;33m.\u001b[0m\u001b[0margs\u001b[0m\u001b[1;33m,\u001b[0m \u001b[1;33m**\u001b[0m\u001b[0mself\u001b[0m\u001b[1;33m.\u001b[0m\u001b[0mkwargs\u001b[0m\u001b[1;33m)\u001b[0m\u001b[1;33m\u001b[0m\u001b[1;33m\u001b[0m\u001b[0m\n\u001b[0m\u001b[0;32m    131\u001b[0m \u001b[1;33m\u001b[0m\u001b[0m\n\u001b[0;32m    132\u001b[0m             \u001b[1;32mif\u001b[0m \u001b[0mhasattr\u001b[0m\u001b[1;33m(\u001b[0m\u001b[0mself\u001b[0m\u001b[1;33m.\u001b[0m\u001b[0mmethod\u001b[0m\u001b[1;33m,\u001b[0m \u001b[1;34m'__self__'\u001b[0m\u001b[1;33m)\u001b[0m\u001b[1;33m:\u001b[0m\u001b[1;33m\u001b[0m\u001b[1;33m\u001b[0m\u001b[0m\n",
      "\u001b[1;32m~\\AppData\\Local\\Packages\\PythonSoftwareFoundation.Python.3.8_qbz5n2kfra8p0\\LocalCache\\local-packages\\Python38\\site-packages\\tweepy\\binder.py\u001b[0m in \u001b[0;36m_call\u001b[1;34m(*args, **kwargs)\u001b[0m\n\u001b[0;32m    250\u001b[0m                 \u001b[1;32mreturn\u001b[0m \u001b[0mmethod\u001b[0m\u001b[1;33m\u001b[0m\u001b[1;33m\u001b[0m\u001b[0m\n\u001b[0;32m    251\u001b[0m             \u001b[1;32melse\u001b[0m\u001b[1;33m:\u001b[0m\u001b[1;33m\u001b[0m\u001b[1;33m\u001b[0m\u001b[0m\n\u001b[1;32m--> 252\u001b[1;33m                 \u001b[1;32mreturn\u001b[0m \u001b[0mmethod\u001b[0m\u001b[1;33m.\u001b[0m\u001b[0mexecute\u001b[0m\u001b[1;33m(\u001b[0m\u001b[1;33m)\u001b[0m\u001b[1;33m\u001b[0m\u001b[1;33m\u001b[0m\u001b[0m\n\u001b[0m\u001b[0;32m    253\u001b[0m         \u001b[1;32mfinally\u001b[0m\u001b[1;33m:\u001b[0m\u001b[1;33m\u001b[0m\u001b[1;33m\u001b[0m\u001b[0m\n\u001b[0;32m    254\u001b[0m             \u001b[0mmethod\u001b[0m\u001b[1;33m.\u001b[0m\u001b[0msession\u001b[0m\u001b[1;33m.\u001b[0m\u001b[0mclose\u001b[0m\u001b[1;33m(\u001b[0m\u001b[1;33m)\u001b[0m\u001b[1;33m\u001b[0m\u001b[1;33m\u001b[0m\u001b[0m\n",
      "\u001b[1;32m~\\AppData\\Local\\Packages\\PythonSoftwareFoundation.Python.3.8_qbz5n2kfra8p0\\LocalCache\\local-packages\\Python38\\site-packages\\tweepy\\binder.py\u001b[0m in \u001b[0;36mexecute\u001b[1;34m(self)\u001b[0m\n\u001b[0;32m    232\u001b[0m                     \u001b[1;32mraise\u001b[0m \u001b[0mRateLimitError\u001b[0m\u001b[1;33m(\u001b[0m\u001b[0merror_msg\u001b[0m\u001b[1;33m,\u001b[0m \u001b[0mresp\u001b[0m\u001b[1;33m)\u001b[0m\u001b[1;33m\u001b[0m\u001b[1;33m\u001b[0m\u001b[0m\n\u001b[0;32m    233\u001b[0m                 \u001b[1;32melse\u001b[0m\u001b[1;33m:\u001b[0m\u001b[1;33m\u001b[0m\u001b[1;33m\u001b[0m\u001b[0m\n\u001b[1;32m--> 234\u001b[1;33m                     \u001b[1;32mraise\u001b[0m \u001b[0mTweepError\u001b[0m\u001b[1;33m(\u001b[0m\u001b[0merror_msg\u001b[0m\u001b[1;33m,\u001b[0m \u001b[0mresp\u001b[0m\u001b[1;33m,\u001b[0m \u001b[0mapi_code\u001b[0m\u001b[1;33m=\u001b[0m\u001b[0mapi_error_code\u001b[0m\u001b[1;33m)\u001b[0m\u001b[1;33m\u001b[0m\u001b[1;33m\u001b[0m\u001b[0m\n\u001b[0m\u001b[0;32m    235\u001b[0m \u001b[1;33m\u001b[0m\u001b[0m\n\u001b[0;32m    236\u001b[0m             \u001b[1;31m# Parse the response payload\u001b[0m\u001b[1;33m\u001b[0m\u001b[1;33m\u001b[0m\u001b[1;33m\u001b[0m\u001b[0m\n",
      "\u001b[1;31mTweepError\u001b[0m: Twitter error response: status code = 429"
     ]
    }
   ],
   "source": [
    "tts = []\n",
    "for tweet in tweepy.Cursor(tt.search,\n",
    "                           q=\"biscoito\",\n",
    "                           since=\"2020-08-05\",\n",
    "                           until=\"2020-08-06\",\n",
    "                           lang=\"pt\").items():\n",
    "    tts.append(list((tweet.created_at, tweet.text)))"
   ]
  },
  {
   "cell_type": "code",
   "execution_count": 31,
   "metadata": {
    "ExecuteTime": {
     "end_time": "2020-08-06T19:58:12.609392Z",
     "start_time": "2020-08-06T19:58:12.605387Z"
    }
   },
   "outputs": [
    {
     "data": {
      "text/plain": [
       "[]"
      ]
     },
     "execution_count": 31,
     "metadata": {},
     "output_type": "execute_result"
    }
   ],
   "source": [
    "tts"
   ]
  }
 ],
 "metadata": {
  "kernelspec": {
   "display_name": "Python 3",
   "language": "python",
   "name": "python3"
  },
  "toc": {
   "base_numbering": 1,
   "nav_menu": {},
   "number_sections": true,
   "sideBar": true,
   "skip_h1_title": false,
   "title_cell": "Table of Contents",
   "title_sidebar": "Contents",
   "toc_cell": false,
   "toc_position": {},
   "toc_section_display": true,
   "toc_window_display": true
  }
 },
 "nbformat": 4,
 "nbformat_minor": 4
}
