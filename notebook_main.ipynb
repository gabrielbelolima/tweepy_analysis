{
 "cells": [
  {
   "cell_type": "markdown",
   "metadata": {},
   "source": [
    "# Imports"
   ]
  },
  {
   "cell_type": "code",
   "execution_count": 9,
   "metadata": {
    "ExecuteTime": {
     "end_time": "2020-08-17T20:35:51.651381Z",
     "start_time": "2020-08-17T20:35:51.646402Z"
    },
    "nteract": {
     "transient": {
      "deleting": false
     }
    },
    "scrolled": true
   },
   "outputs": [],
   "source": [
    "import pandas as pd\n",
    "import time\n",
    "\n",
    "from tqdm.notebook import tqdm\n",
    "from IPython.display import clear_output\n",
    "\n",
    "import matplotlib.pyplot as plt\n",
    "import seaborn as sns\n",
    "\n",
    "import tweepy\n",
    "from auth import auth #Inserir autenticação no arquivo auth.py\n",
    "#from grabel_auth import auth\n",
    "\n",
    "import warnings\n",
    "warnings.filterwarnings('ignore')"
   ]
  },
  {
   "cell_type": "markdown",
   "metadata": {},
   "source": [
    "# API object"
   ]
  },
  {
   "cell_type": "markdown",
   "metadata": {},
   "source": [
    "* [AUTENTICAÇÕES DO TWITTER](https://bhaskarvk.github.io/2015/01/how-to-use-twitters-search-rest-api-most-effectively./#:~:text=Application%20only%20auth%20has%20higher,Auth%20using%20the%20Tweepy%20API.)"
   ]
  },
  {
   "cell_type": "code",
   "execution_count": 2,
   "metadata": {
    "ExecuteTime": {
     "end_time": "2020-08-17T19:26:02.208652Z",
     "start_time": "2020-08-17T19:26:02.200572Z"
    },
    "nteract": {
     "transient": {
      "deleting": false
     }
    }
   },
   "outputs": [],
   "source": [
    "tt = auth()"
   ]
  },
  {
   "cell_type": "markdown",
   "metadata": {},
   "source": [
    "# Functions"
   ]
  },
  {
   "cell_type": "markdown",
   "metadata": {
    "ExecuteTime": {
     "end_time": "2020-08-17T20:36:31.157980Z",
     "start_time": "2020-08-17T20:36:31.142341Z"
    }
   },
   "source": [
    "## count_down"
   ]
  },
  {
   "cell_type": "code",
   "execution_count": 4,
   "metadata": {
    "ExecuteTime": {
     "end_time": "2020-08-17T19:26:02.224642Z",
     "start_time": "2020-08-17T19:26:02.219646Z"
    }
   },
   "outputs": [],
   "source": [
    "# count down\n",
    "def count_down(tempo):\n",
    "    while tempo:\n",
    "        mins, secs = divmod(tempo, 60)\n",
    "        timeformat = '{:02d}:{:02d}'.format(mins, secs)\n",
    "        print(timeformat, end='\\r')\n",
    "        time.sleep(1)\n",
    "        tempo -= 1"
   ]
  },
  {
   "cell_type": "code",
   "execution_count": 5,
   "metadata": {
    "ExecuteTime": {
     "end_time": "2020-08-17T19:26:12.388071Z",
     "start_time": "2020-08-17T19:26:02.292604Z"
    }
   },
   "outputs": [
    {
     "name": "stdout",
     "output_type": "stream",
     "text": [
      "00:01\r"
     ]
    }
   ],
   "source": [
    "count_down(10)"
   ]
  },
  {
   "cell_type": "markdown",
   "metadata": {},
   "source": [
    "## get_followers_id()"
   ]
  },
  {
   "cell_type": "code",
   "execution_count": 6,
   "metadata": {
    "ExecuteTime": {
     "end_time": "2020-08-17T19:26:12.396863Z",
     "start_time": "2020-08-17T19:26:12.388071Z"
    }
   },
   "outputs": [],
   "source": [
    "# get_followers_id()\n",
    "\n",
    "def get_followers_ids(perfil_analisado):\n",
    "    '''Recebe um nome de perfil do twitter e retorna serie com ids dos seguidores'''\n",
    "    ids = []\n",
    "    my_pages = tweepy.Cursor(tt.followers_ids, screen_name=perfil_analisado).pages()\n",
    "    while True:\n",
    "        try:\n",
    "            page = my_pages.next()\n",
    "            ids.extend(page)\n",
    "            time.sleep(2)\n",
    "        except tweepy.TweepError:\n",
    "                tempo = (60 * 15) #15 min\n",
    "                time.sleep(tempo)\n",
    "                print('oi')\n",
    "                while tempo:\n",
    "                    mins, secs = divmod(tempo, 60)\n",
    "                    timeformat = '{:02d}:{:02d}'.format(mins, secs)\n",
    "                    print(timeformat, end='\\r')\n",
    "                    time.sleep(1)\n",
    "                    tempo -= 1 #não está printando a contagem regressiva!\n",
    "                continue\n",
    "        except StopIteration:\n",
    "            break\n",
    "  \n",
    "    return pd.DataFrame(ids, columns=['followers_ids'])['followers_ids']\n"
   ]
  },
  {
   "cell_type": "markdown",
   "metadata": {},
   "source": [
    "* Exemplo:"
   ]
  },
  {
   "cell_type": "code",
   "execution_count": 7,
   "metadata": {
    "ExecuteTime": {
     "end_time": "2020-08-17T19:34:52.083039Z",
     "start_time": "2020-08-17T19:26:12.398861Z"
    }
   },
   "outputs": [
    {
     "name": "stderr",
     "output_type": "stream",
     "text": [
      "Rate limit reached. Sleeping for: 512\n"
     ]
    },
    {
     "data": {
      "text/plain": [
       "171"
      ]
     },
     "execution_count": 7,
     "metadata": {},
     "output_type": "execute_result"
    }
   ],
   "source": [
    "followers = get_followers_ids('grabel')\n",
    "len(followers)"
   ]
  },
  {
   "cell_type": "markdown",
   "metadata": {},
   "source": [
    "## get_users_data()"
   ]
  },
  {
   "cell_type": "code",
   "execution_count": 6,
   "metadata": {
    "ExecuteTime": {
     "end_time": "2020-08-17T02:21:56.389563Z",
     "start_time": "2020-08-17T02:21:56.382547Z"
    }
   },
   "outputs": [],
   "source": [
    "# get_users_data()\n",
    "def get_users_data(lista_ids):\n",
    "    '''Recebe lista ou serie de ids e retorna nomes de perfis do twitter'''\n",
    "    followers = pd.DataFrame()\n",
    "    while len(lista_ids)>len(followers):\n",
    "        try:\n",
    "            for tt_id in tqdm(lista_ids):\n",
    "                df = pd.DataFrame(tt.get_user(tt_id)._json)\n",
    "                df = df.loc[['description'],['id_str','name','screen_name','profile_image_url_https',\n",
    "                                             'description','statuses_count','friends_count','followers_count',\n",
    "                                             'favourites_count','location','created_at','protected','lang']].rename(\n",
    "                                                                                    columns={\n",
    "                                                                                              'statuses_count':'tweets_count',\n",
    "                                                                                              'id_str':'profile_id'\n",
    "                                                                                              })\n",
    "                followers = pd.concat([followers, df], axis = 0, ignore_index=True)  \n",
    "                time.sleep(.5)\n",
    "                \n",
    "        except tweepy.TweepError:\n",
    "                tempo = (60 * 15) #15 min\n",
    "                time.sleep(tempo)\n",
    "                count_down(tempo)\n",
    "                continue\n",
    "        except StopIteration:\n",
    "            break\n",
    "        \n",
    "    return followers"
   ]
  },
  {
   "cell_type": "markdown",
   "metadata": {},
   "source": [
    "* Exemplo:"
   ]
  },
  {
   "cell_type": "code",
   "execution_count": 7,
   "metadata": {
    "ExecuteTime": {
     "end_time": "2020-08-17T02:22:01.894346Z",
     "start_time": "2020-08-17T02:21:59.955274Z"
    }
   },
   "outputs": [
    {
     "data": {
      "application/vnd.jupyter.widget-view+json": {
       "model_id": "953a9dfef5e34b01a79e80e578751371",
       "version_major": 2,
       "version_minor": 0
      },
      "text/plain": [
       "HBox(children=(FloatProgress(value=0.0, max=2.0), HTML(value='')))"
      ]
     },
     "metadata": {},
     "output_type": "display_data"
    },
    {
     "name": "stdout",
     "output_type": "stream",
     "text": [
      "\n"
     ]
    },
    {
     "data": {
      "text/html": [
       "<div>\n",
       "<style scoped>\n",
       "    .dataframe tbody tr th:only-of-type {\n",
       "        vertical-align: middle;\n",
       "    }\n",
       "\n",
       "    .dataframe tbody tr th {\n",
       "        vertical-align: top;\n",
       "    }\n",
       "\n",
       "    .dataframe thead th {\n",
       "        text-align: right;\n",
       "    }\n",
       "</style>\n",
       "<table border=\"1\" class=\"dataframe\">\n",
       "  <thead>\n",
       "    <tr style=\"text-align: right;\">\n",
       "      <th></th>\n",
       "      <th>profile_id</th>\n",
       "      <th>name</th>\n",
       "      <th>screen_name</th>\n",
       "      <th>profile_image_url_https</th>\n",
       "      <th>description</th>\n",
       "      <th>tweets_count</th>\n",
       "      <th>friends_count</th>\n",
       "      <th>followers_count</th>\n",
       "      <th>favourites_count</th>\n",
       "      <th>location</th>\n",
       "      <th>created_at</th>\n",
       "      <th>protected</th>\n",
       "      <th>lang</th>\n",
       "    </tr>\n",
       "  </thead>\n",
       "  <tbody>\n",
       "    <tr>\n",
       "      <th>0</th>\n",
       "      <td>1291458785853284352</td>\n",
       "      <td>Jornal Botucatu em 🏠 ✪</td>\n",
       "      <td>jornalBotucatu</td>\n",
       "      <td>https://pbs.twimg.com/profile_images/129171464...</td>\n",
       "      <td>⌚𝐉𝐨𝐫𝐧𝐚𝐥 𝐛𝐨𝐭𝐮𝐜𝐚𝐭𝐮⌚\\n\\n ☭ noticias atualizadas\\n...</td>\n",
       "      <td>39</td>\n",
       "      <td>62</td>\n",
       "      <td>15</td>\n",
       "      <td>119</td>\n",
       "      <td></td>\n",
       "      <td>Thu Aug 06 19:39:13 +0000 2020</td>\n",
       "      <td>False</td>\n",
       "      <td>None</td>\n",
       "    </tr>\n",
       "    <tr>\n",
       "      <th>1</th>\n",
       "      <td>975585204441174016</td>\n",
       "      <td>Diego de Oliveira</td>\n",
       "      <td>jose_goday</td>\n",
       "      <td>https://pbs.twimg.com/profile_images/129286964...</td>\n",
       "      <td>Escritor e barraqueiro digital</td>\n",
       "      <td>2748</td>\n",
       "      <td>683</td>\n",
       "      <td>1167</td>\n",
       "      <td>3240</td>\n",
       "      <td></td>\n",
       "      <td>Mon Mar 19 04:10:13 +0000 2018</td>\n",
       "      <td>False</td>\n",
       "      <td>None</td>\n",
       "    </tr>\n",
       "  </tbody>\n",
       "</table>\n",
       "</div>"
      ],
      "text/plain": [
       "            profile_id                    name     screen_name  \\\n",
       "0  1291458785853284352  Jornal Botucatu em 🏠 ✪  jornalBotucatu   \n",
       "1   975585204441174016       Diego de Oliveira      jose_goday   \n",
       "\n",
       "                             profile_image_url_https  \\\n",
       "0  https://pbs.twimg.com/profile_images/129171464...   \n",
       "1  https://pbs.twimg.com/profile_images/129286964...   \n",
       "\n",
       "                                         description  tweets_count  \\\n",
       "0  ⌚𝐉𝐨𝐫𝐧𝐚𝐥 𝐛𝐨𝐭𝐮𝐜𝐚𝐭𝐮⌚\\n\\n ☭ noticias atualizadas\\n...            39   \n",
       "1                     Escritor e barraqueiro digital          2748   \n",
       "\n",
       "   friends_count  followers_count  favourites_count location  \\\n",
       "0             62               15               119            \n",
       "1            683             1167              3240            \n",
       "\n",
       "                       created_at  protected  lang  \n",
       "0  Thu Aug 06 19:39:13 +0000 2020      False  None  \n",
       "1  Mon Mar 19 04:10:13 +0000 2018      False  None  "
      ]
     },
     "execution_count": 7,
     "metadata": {},
     "output_type": "execute_result"
    }
   ],
   "source": [
    "df_users = get_users_data(followers[:2])\n",
    "df_users.head()"
   ]
  },
  {
   "cell_type": "markdown",
   "metadata": {},
   "source": [
    "## get_followers_data()"
   ]
  },
  {
   "cell_type": "code",
   "execution_count": 8,
   "metadata": {
    "ExecuteTime": {
     "end_time": "2020-08-17T02:22:12.314497Z",
     "start_time": "2020-08-17T02:22:12.310499Z"
    }
   },
   "outputs": [],
   "source": [
    "# get_followers_data()\n",
    "def get_followers_data(perfil_analisado):\n",
    "    '''Recebe perfil e retorna dataframe com dados das páginas dos seguidores'''\n",
    "    df_fol = get_followers_ids(perfil_analisado)\n",
    "    return get_users_data(df_fol)"
   ]
  },
  {
   "cell_type": "markdown",
   "metadata": {},
   "source": [
    "* Exemplo:"
   ]
  },
  {
   "cell_type": "code",
   "execution_count": 9,
   "metadata": {
    "ExecuteTime": {
     "end_time": "2020-08-17T02:25:03.291988Z",
     "start_time": "2020-08-17T02:22:14.822792Z"
    }
   },
   "outputs": [
    {
     "data": {
      "application/vnd.jupyter.widget-view+json": {
       "model_id": "3f66ac0d0aa6478ea148d4cfaa6d1d11",
       "version_major": 2,
       "version_minor": 0
      },
      "text/plain": [
       "HBox(children=(FloatProgress(value=0.0, max=171.0), HTML(value='')))"
      ]
     },
     "metadata": {},
     "output_type": "display_data"
    },
    {
     "name": "stdout",
     "output_type": "stream",
     "text": [
      "\n"
     ]
    },
    {
     "data": {
      "text/html": [
       "<style  type=\"text/css\" >\n",
       "</style><table id=\"T_db6f5329_e030_11ea_a3e1_001a7dda7110\" ><thead>    <tr>        <th class=\"blank level0\" ></th>        <th class=\"col_heading level0 col0\" >profile_id</th>        <th class=\"col_heading level0 col1\" >name</th>        <th class=\"col_heading level0 col2\" >screen_name</th>        <th class=\"col_heading level0 col3\" >profile_image_url_https</th>        <th class=\"col_heading level0 col4\" >description</th>        <th class=\"col_heading level0 col5\" >tweets_count</th>        <th class=\"col_heading level0 col6\" >friends_count</th>        <th class=\"col_heading level0 col7\" >followers_count</th>        <th class=\"col_heading level0 col8\" >favourites_count</th>        <th class=\"col_heading level0 col9\" >location</th>        <th class=\"col_heading level0 col10\" >created_at</th>        <th class=\"col_heading level0 col11\" >protected</th>        <th class=\"col_heading level0 col12\" >lang</th>    </tr></thead><tbody>\n",
       "                <tr>\n",
       "                        <th id=\"T_db6f5329_e030_11ea_a3e1_001a7dda7110level0_row0\" class=\"row_heading level0 row0\" >0</th>\n",
       "                        <td id=\"T_db6f5329_e030_11ea_a3e1_001a7dda7110row0_col0\" class=\"data row0 col0\" >1291458785853284352</td>\n",
       "                        <td id=\"T_db6f5329_e030_11ea_a3e1_001a7dda7110row0_col1\" class=\"data row0 col1\" >Jornal Botucatu em 🏠 ✪</td>\n",
       "                        <td id=\"T_db6f5329_e030_11ea_a3e1_001a7dda7110row0_col2\" class=\"data row0 col2\" >jornalBotucatu</td>\n",
       "                        <td id=\"T_db6f5329_e030_11ea_a3e1_001a7dda7110row0_col3\" class=\"data row0 col3\" >https://pbs.twimg.com/profile_images/1291714645779197952/6bAyDIbu_normal.jpg</td>\n",
       "                        <td id=\"T_db6f5329_e030_11ea_a3e1_001a7dda7110row0_col4\" class=\"data row0 col4\" >⌚𝐉𝐨𝐫𝐧𝐚𝐥 𝐛𝐨𝐭𝐮𝐜𝐚𝐭𝐮⌚\n",
       "\n",
       " ☭ noticias atualizadas\n",
       "(eh só um jornal engraçadinho)\n",
       "\n",
       "☎faltou alguma noticia? mande nos!☎\n",
       "☭ jornalnewsbotucatu@gmail.com ☭</td>\n",
       "                        <td id=\"T_db6f5329_e030_11ea_a3e1_001a7dda7110row0_col5\" class=\"data row0 col5\" >39</td>\n",
       "                        <td id=\"T_db6f5329_e030_11ea_a3e1_001a7dda7110row0_col6\" class=\"data row0 col6\" >62</td>\n",
       "                        <td id=\"T_db6f5329_e030_11ea_a3e1_001a7dda7110row0_col7\" class=\"data row0 col7\" >15</td>\n",
       "                        <td id=\"T_db6f5329_e030_11ea_a3e1_001a7dda7110row0_col8\" class=\"data row0 col8\" >119</td>\n",
       "                        <td id=\"T_db6f5329_e030_11ea_a3e1_001a7dda7110row0_col9\" class=\"data row0 col9\" ></td>\n",
       "                        <td id=\"T_db6f5329_e030_11ea_a3e1_001a7dda7110row0_col10\" class=\"data row0 col10\" >Thu Aug 06 19:39:13 +0000 2020</td>\n",
       "                        <td id=\"T_db6f5329_e030_11ea_a3e1_001a7dda7110row0_col11\" class=\"data row0 col11\" >False</td>\n",
       "                        <td id=\"T_db6f5329_e030_11ea_a3e1_001a7dda7110row0_col12\" class=\"data row0 col12\" >None</td>\n",
       "            </tr>\n",
       "            <tr>\n",
       "                        <th id=\"T_db6f5329_e030_11ea_a3e1_001a7dda7110level0_row1\" class=\"row_heading level0 row1\" >1</th>\n",
       "                        <td id=\"T_db6f5329_e030_11ea_a3e1_001a7dda7110row1_col0\" class=\"data row1 col0\" >975585204441174016</td>\n",
       "                        <td id=\"T_db6f5329_e030_11ea_a3e1_001a7dda7110row1_col1\" class=\"data row1 col1\" >Diego de Oliveira</td>\n",
       "                        <td id=\"T_db6f5329_e030_11ea_a3e1_001a7dda7110row1_col2\" class=\"data row1 col2\" >jose_goday</td>\n",
       "                        <td id=\"T_db6f5329_e030_11ea_a3e1_001a7dda7110row1_col3\" class=\"data row1 col3\" >https://pbs.twimg.com/profile_images/1292869643770769409/A3fyDZ_x_normal.jpg</td>\n",
       "                        <td id=\"T_db6f5329_e030_11ea_a3e1_001a7dda7110row1_col4\" class=\"data row1 col4\" >Escritor e barraqueiro digital</td>\n",
       "                        <td id=\"T_db6f5329_e030_11ea_a3e1_001a7dda7110row1_col5\" class=\"data row1 col5\" >2748</td>\n",
       "                        <td id=\"T_db6f5329_e030_11ea_a3e1_001a7dda7110row1_col6\" class=\"data row1 col6\" >683</td>\n",
       "                        <td id=\"T_db6f5329_e030_11ea_a3e1_001a7dda7110row1_col7\" class=\"data row1 col7\" >1167</td>\n",
       "                        <td id=\"T_db6f5329_e030_11ea_a3e1_001a7dda7110row1_col8\" class=\"data row1 col8\" >3240</td>\n",
       "                        <td id=\"T_db6f5329_e030_11ea_a3e1_001a7dda7110row1_col9\" class=\"data row1 col9\" ></td>\n",
       "                        <td id=\"T_db6f5329_e030_11ea_a3e1_001a7dda7110row1_col10\" class=\"data row1 col10\" >Mon Mar 19 04:10:13 +0000 2018</td>\n",
       "                        <td id=\"T_db6f5329_e030_11ea_a3e1_001a7dda7110row1_col11\" class=\"data row1 col11\" >False</td>\n",
       "                        <td id=\"T_db6f5329_e030_11ea_a3e1_001a7dda7110row1_col12\" class=\"data row1 col12\" >None</td>\n",
       "            </tr>\n",
       "            <tr>\n",
       "                        <th id=\"T_db6f5329_e030_11ea_a3e1_001a7dda7110level0_row2\" class=\"row_heading level0 row2\" >2</th>\n",
       "                        <td id=\"T_db6f5329_e030_11ea_a3e1_001a7dda7110row2_col0\" class=\"data row2 col0\" >123057045</td>\n",
       "                        <td id=\"T_db6f5329_e030_11ea_a3e1_001a7dda7110row2_col1\" class=\"data row2 col1\" >exaustinha</td>\n",
       "                        <td id=\"T_db6f5329_e030_11ea_a3e1_001a7dda7110row2_col2\" class=\"data row2 col2\" >rubacaozin</td>\n",
       "                        <td id=\"T_db6f5329_e030_11ea_a3e1_001a7dda7110row2_col3\" class=\"data row2 col3\" >https://pbs.twimg.com/profile_images/1287814896982392832/o6ORPRSe_normal.jpg</td>\n",
       "                        <td id=\"T_db6f5329_e030_11ea_a3e1_001a7dda7110row2_col4\" class=\"data row2 col4\" >bota o vídeo no mudo e toca tame impala</td>\n",
       "                        <td id=\"T_db6f5329_e030_11ea_a3e1_001a7dda7110row2_col5\" class=\"data row2 col5\" >12255</td>\n",
       "                        <td id=\"T_db6f5329_e030_11ea_a3e1_001a7dda7110row2_col6\" class=\"data row2 col6\" >479</td>\n",
       "                        <td id=\"T_db6f5329_e030_11ea_a3e1_001a7dda7110row2_col7\" class=\"data row2 col7\" >1024</td>\n",
       "                        <td id=\"T_db6f5329_e030_11ea_a3e1_001a7dda7110row2_col8\" class=\"data row2 col8\" >27751</td>\n",
       "                        <td id=\"T_db6f5329_e030_11ea_a3e1_001a7dda7110row2_col9\" class=\"data row2 col9\" >Brazil, IN</td>\n",
       "                        <td id=\"T_db6f5329_e030_11ea_a3e1_001a7dda7110row2_col10\" class=\"data row2 col10\" >Sun Mar 14 21:11:41 +0000 2010</td>\n",
       "                        <td id=\"T_db6f5329_e030_11ea_a3e1_001a7dda7110row2_col11\" class=\"data row2 col11\" >False</td>\n",
       "                        <td id=\"T_db6f5329_e030_11ea_a3e1_001a7dda7110row2_col12\" class=\"data row2 col12\" >None</td>\n",
       "            </tr>\n",
       "            <tr>\n",
       "                        <th id=\"T_db6f5329_e030_11ea_a3e1_001a7dda7110level0_row3\" class=\"row_heading level0 row3\" >3</th>\n",
       "                        <td id=\"T_db6f5329_e030_11ea_a3e1_001a7dda7110row3_col0\" class=\"data row3 col0\" >1284136441984036865</td>\n",
       "                        <td id=\"T_db6f5329_e030_11ea_a3e1_001a7dda7110row3_col1\" class=\"data row3 col1\" >Lilly Lazuli 🌛✨</td>\n",
       "                        <td id=\"T_db6f5329_e030_11ea_a3e1_001a7dda7110row3_col2\" class=\"data row3 col2\" >LazuliLilly</td>\n",
       "                        <td id=\"T_db6f5329_e030_11ea_a3e1_001a7dda7110row3_col3\" class=\"data row3 col3\" >https://pbs.twimg.com/profile_images/1284138099535159297/ve5jnCIx_normal.jpg</td>\n",
       "                        <td id=\"T_db6f5329_e030_11ea_a3e1_001a7dda7110row3_col4\" class=\"data row3 col4\" >Self-proclaimed indecisive overthinker.\n",
       "27 y.</td>\n",
       "                        <td id=\"T_db6f5329_e030_11ea_a3e1_001a7dda7110row3_col5\" class=\"data row3 col5\" >41</td>\n",
       "                        <td id=\"T_db6f5329_e030_11ea_a3e1_001a7dda7110row3_col6\" class=\"data row3 col6\" >33</td>\n",
       "                        <td id=\"T_db6f5329_e030_11ea_a3e1_001a7dda7110row3_col7\" class=\"data row3 col7\" >16</td>\n",
       "                        <td id=\"T_db6f5329_e030_11ea_a3e1_001a7dda7110row3_col8\" class=\"data row3 col8\" >190</td>\n",
       "                        <td id=\"T_db6f5329_e030_11ea_a3e1_001a7dda7110row3_col9\" class=\"data row3 col9\" ></td>\n",
       "                        <td id=\"T_db6f5329_e030_11ea_a3e1_001a7dda7110row3_col10\" class=\"data row3 col10\" >Fri Jul 17 14:42:48 +0000 2020</td>\n",
       "                        <td id=\"T_db6f5329_e030_11ea_a3e1_001a7dda7110row3_col11\" class=\"data row3 col11\" >True</td>\n",
       "                        <td id=\"T_db6f5329_e030_11ea_a3e1_001a7dda7110row3_col12\" class=\"data row3 col12\" >None</td>\n",
       "            </tr>\n",
       "            <tr>\n",
       "                        <th id=\"T_db6f5329_e030_11ea_a3e1_001a7dda7110level0_row4\" class=\"row_heading level0 row4\" >4</th>\n",
       "                        <td id=\"T_db6f5329_e030_11ea_a3e1_001a7dda7110row4_col0\" class=\"data row4 col0\" >426770605</td>\n",
       "                        <td id=\"T_db6f5329_e030_11ea_a3e1_001a7dda7110row4_col1\" class=\"data row4 col1\" >Arte_pincel</td>\n",
       "                        <td id=\"T_db6f5329_e030_11ea_a3e1_001a7dda7110row4_col2\" class=\"data row4 col2\" >Arte_Pincel</td>\n",
       "                        <td id=\"T_db6f5329_e030_11ea_a3e1_001a7dda7110row4_col3\" class=\"data row4 col3\" >https://pbs.twimg.com/profile_images/1284265135259910145/MiLJbIh4_normal.jpg</td>\n",
       "                        <td id=\"T_db6f5329_e030_11ea_a3e1_001a7dda7110row4_col4\" class=\"data row4 col4\" >AS ARTE PLASTICAS DOS LAPES A VÉRBERTY LIBRAS E ARTE VIA FRANÇA PRIAS DE @ARTE_PINCEL ITÁLIA OBRIGADO !!!!</td>\n",
       "                        <td id=\"T_db6f5329_e030_11ea_a3e1_001a7dda7110row4_col5\" class=\"data row4 col5\" >947</td>\n",
       "                        <td id=\"T_db6f5329_e030_11ea_a3e1_001a7dda7110row4_col6\" class=\"data row4 col6\" >2595</td>\n",
       "                        <td id=\"T_db6f5329_e030_11ea_a3e1_001a7dda7110row4_col7\" class=\"data row4 col7\" >425</td>\n",
       "                        <td id=\"T_db6f5329_e030_11ea_a3e1_001a7dda7110row4_col8\" class=\"data row4 col8\" >628</td>\n",
       "                        <td id=\"T_db6f5329_e030_11ea_a3e1_001a7dda7110row4_col9\" class=\"data row4 col9\" >Campina Grande, Brasil</td>\n",
       "                        <td id=\"T_db6f5329_e030_11ea_a3e1_001a7dda7110row4_col10\" class=\"data row4 col10\" >Fri Dec 02 17:32:45 +0000 2011</td>\n",
       "                        <td id=\"T_db6f5329_e030_11ea_a3e1_001a7dda7110row4_col11\" class=\"data row4 col11\" >False</td>\n",
       "                        <td id=\"T_db6f5329_e030_11ea_a3e1_001a7dda7110row4_col12\" class=\"data row4 col12\" >None</td>\n",
       "            </tr>\n",
       "    </tbody></table>"
      ],
      "text/plain": [
       "<pandas.io.formats.style.Styler at 0x1e1b6550850>"
      ]
     },
     "execution_count": 9,
     "metadata": {},
     "output_type": "execute_result"
    }
   ],
   "source": [
    "df_followers = get_followers_data('grabel')\n",
    "df_followers.head().style"
   ]
  },
  {
   "cell_type": "markdown",
   "metadata": {},
   "source": [
    "## get_seguidores_iguais()"
   ]
  },
  {
   "cell_type": "code",
   "execution_count": 10,
   "metadata": {
    "ExecuteTime": {
     "end_time": "2020-08-17T02:26:00.317175Z",
     "start_time": "2020-08-17T02:26:00.310179Z"
    }
   },
   "outputs": [],
   "source": [
    "# get_seguidores_iguais()\n",
    "def get_seguidores_iguais(*tt_users):\n",
    "    '''Recebe nomes de perfis do twitter e retorna serie com seguidores em comum.'''\n",
    "    \n",
    "    tt_users = list(tt_users) \n",
    "    print('Perfis a filtrar:', len(tt_users))\n",
    "    if len(tt_users)>=2:\n",
    "                    \n",
    "        fols_user1 = get_followers_ids(tt_users.pop(0))\n",
    "        \n",
    "        clear_output(wait=True)\n",
    "        print('Perfis a filtrar:', len(tt_users))\n",
    "        fols_user2 = get_followers_ids(tt_users.pop(0))\n",
    "        df_both = pd.merge(fols_user2, fols_user1, how = 'inner', on='followers_ids')\n",
    "        \n",
    "        while len(tt_users)>=1:\n",
    "            \n",
    "            clear_output(wait=True)\n",
    "            print('Perfis a filtrar:', len(tt_users))\n",
    "            \n",
    "            fols_userx = get_followers_ids(tt_users.pop(0))\n",
    "            df_both = pd.merge(df_both, fols_userx, how='inner', on ='followers_ids')\n",
    "           \n",
    "        clear_output(wait=True)\n",
    "        print('Seguidores em comum: ', len(df_both))\n",
    "        \n",
    "    return get_users_data(df_both['followers_ids'])  "
   ]
  },
  {
   "cell_type": "markdown",
   "metadata": {},
   "source": [
    "* Exemplo:"
   ]
  },
  {
   "cell_type": "code",
   "execution_count": 11,
   "metadata": {
    "ExecuteTime": {
     "end_time": "2020-08-17T02:30:38.554493Z",
     "start_time": "2020-08-17T02:26:02.707140Z"
    }
   },
   "outputs": [
    {
     "name": "stdout",
     "output_type": "stream",
     "text": [
      "Seguidores em comum:  4\n"
     ]
    },
    {
     "data": {
      "application/vnd.jupyter.widget-view+json": {
       "model_id": "917bf1b119254c8dbe43f5a77d551aaa",
       "version_major": 2,
       "version_minor": 0
      },
      "text/plain": [
       "HBox(children=(FloatProgress(value=0.0, max=4.0), HTML(value='')))"
      ]
     },
     "metadata": {},
     "output_type": "display_data"
    },
    {
     "name": "stdout",
     "output_type": "stream",
     "text": [
      "\n"
     ]
    }
   ],
   "source": [
    "seguidores_em_comum = get_seguidores_iguais('grabel',\n",
    "                                            'mandielima', \n",
    "                                            'iasdoar', \n",
    "                                            'anaraissans'\n",
    "                                             )"
   ]
  },
  {
   "cell_type": "code",
   "execution_count": 28,
   "metadata": {
    "ExecuteTime": {
     "end_time": "2020-08-17T02:19:27.611952Z",
     "start_time": "2020-08-17T02:19:27.598957Z"
    }
   },
   "outputs": [
    {
     "data": {
      "text/html": [
       "<div>\n",
       "<style scoped>\n",
       "    .dataframe tbody tr th:only-of-type {\n",
       "        vertical-align: middle;\n",
       "    }\n",
       "\n",
       "    .dataframe tbody tr th {\n",
       "        vertical-align: top;\n",
       "    }\n",
       "\n",
       "    .dataframe thead th {\n",
       "        text-align: right;\n",
       "    }\n",
       "</style>\n",
       "<table border=\"1\" class=\"dataframe\">\n",
       "  <thead>\n",
       "    <tr style=\"text-align: right;\">\n",
       "      <th></th>\n",
       "      <th>profile_id</th>\n",
       "      <th>name</th>\n",
       "      <th>screen_name</th>\n",
       "      <th>profile_image_url_https</th>\n",
       "      <th>description</th>\n",
       "      <th>tweets_count</th>\n",
       "      <th>friends_count</th>\n",
       "      <th>followers_count</th>\n",
       "      <th>favourites_count</th>\n",
       "      <th>location</th>\n",
       "      <th>created_at</th>\n",
       "      <th>protected</th>\n",
       "      <th>lang</th>\n",
       "    </tr>\n",
       "  </thead>\n",
       "  <tbody>\n",
       "    <tr>\n",
       "      <th>0</th>\n",
       "      <td>158857500</td>\n",
       "      <td>Anakin Skywalker</td>\n",
       "      <td>jeronimoisabela</td>\n",
       "      <td>https://pbs.twimg.com/profile_images/290812783...</td>\n",
       "      <td></td>\n",
       "      <td>12317</td>\n",
       "      <td>418</td>\n",
       "      <td>486</td>\n",
       "      <td>13645</td>\n",
       "      <td></td>\n",
       "      <td>Wed Jun 23 21:05:31 +0000 2010</td>\n",
       "      <td>False</td>\n",
       "      <td>None</td>\n",
       "    </tr>\n",
       "    <tr>\n",
       "      <th>1</th>\n",
       "      <td>34309517</td>\n",
       "      <td>tsrd</td>\n",
       "      <td>tayase</td>\n",
       "      <td>https://pbs.twimg.com/profile_images/129463565...</td>\n",
       "      <td>chalálálánem</td>\n",
       "      <td>19361</td>\n",
       "      <td>375</td>\n",
       "      <td>217</td>\n",
       "      <td>10301</td>\n",
       "      <td>João Pessoa, PB.</td>\n",
       "      <td>Wed Apr 22 15:57:02 +0000 2009</td>\n",
       "      <td>True</td>\n",
       "      <td>None</td>\n",
       "    </tr>\n",
       "    <tr>\n",
       "      <th>2</th>\n",
       "      <td>43043000</td>\n",
       "      <td>BemVS</td>\n",
       "      <td>bemlucas</td>\n",
       "      <td>https://pbs.twimg.com/profile_images/103991165...</td>\n",
       "      <td>o mal é bom e o Bem cruel</td>\n",
       "      <td>8591</td>\n",
       "      <td>582</td>\n",
       "      <td>540</td>\n",
       "      <td>29517</td>\n",
       "      <td>João Pessoa, Brasil</td>\n",
       "      <td>Thu May 28 04:01:11 +0000 2009</td>\n",
       "      <td>False</td>\n",
       "      <td>None</td>\n",
       "    </tr>\n",
       "    <tr>\n",
       "      <th>3</th>\n",
       "      <td>200278803</td>\n",
       "      <td>emo &amp; muito cult</td>\n",
       "      <td>paleshtrinha</td>\n",
       "      <td>https://pbs.twimg.com/profile_images/129108506...</td>\n",
       "      <td>milionária, linda, estylosa, simpática, preta ...</td>\n",
       "      <td>94345</td>\n",
       "      <td>253</td>\n",
       "      <td>339</td>\n",
       "      <td>33</td>\n",
       "      <td></td>\n",
       "      <td>Fri Oct 08 22:14:32 +0000 2010</td>\n",
       "      <td>True</td>\n",
       "      <td>None</td>\n",
       "    </tr>\n",
       "  </tbody>\n",
       "</table>\n",
       "</div>"
      ],
      "text/plain": [
       "  profile_id              name      screen_name  \\\n",
       "0  158857500  Anakin Skywalker  jeronimoisabela   \n",
       "1   34309517              tsrd           tayase   \n",
       "2   43043000             BemVS         bemlucas   \n",
       "3  200278803  emo & muito cult     paleshtrinha   \n",
       "\n",
       "                             profile_image_url_https  \\\n",
       "0  https://pbs.twimg.com/profile_images/290812783...   \n",
       "1  https://pbs.twimg.com/profile_images/129463565...   \n",
       "2  https://pbs.twimg.com/profile_images/103991165...   \n",
       "3  https://pbs.twimg.com/profile_images/129108506...   \n",
       "\n",
       "                                         description  tweets_count  \\\n",
       "0                                                            12317   \n",
       "1                                       chalálálánem         19361   \n",
       "2                          o mal é bom e o Bem cruel          8591   \n",
       "3  milionária, linda, estylosa, simpática, preta ...         94345   \n",
       "\n",
       "   friends_count  followers_count  favourites_count             location  \\\n",
       "0            418              486             13645                        \n",
       "1            375              217             10301     João Pessoa, PB.   \n",
       "2            582              540             29517  João Pessoa, Brasil   \n",
       "3            253              339                33                        \n",
       "\n",
       "                       created_at  protected  lang  \n",
       "0  Wed Jun 23 21:05:31 +0000 2010      False  None  \n",
       "1  Wed Apr 22 15:57:02 +0000 2009       True  None  \n",
       "2  Thu May 28 04:01:11 +0000 2009      False  None  \n",
       "3  Fri Oct 08 22:14:32 +0000 2010       True  None  "
      ]
     },
     "execution_count": 28,
     "metadata": {},
     "output_type": "execute_result"
    }
   ],
   "source": [
    "seguidores_em_comum #Exibe os dados dos seguidores em comum"
   ]
  },
  {
   "cell_type": "markdown",
   "metadata": {},
   "source": [
    "## plot_tt_top()"
   ]
  },
  {
   "cell_type": "code",
   "execution_count": 20,
   "metadata": {
    "ExecuteTime": {
     "end_time": "2020-08-17T02:34:27.105210Z",
     "start_time": "2020-08-17T02:34:27.098214Z"
    }
   },
   "outputs": [],
   "source": [
    "# plot_tt_top()\n",
    "def plot_tt_top(df = [], top=10, table = False):\n",
    "        \n",
    "    l = 25\n",
    "    h = min(top*2.2, 150)\n",
    "    cols = {'flls':'followers_count',\n",
    "            'frds':'friends_count',\n",
    "            'twts':'tweets_count',\n",
    "            'favs':'favourites_count'}\n",
    "    \n",
    "    ind = \"?\"\n",
    "    while ind not in cols.keys():\n",
    "        ind = input('''Digite um dos valores para organizar o plot:\n",
    "                       flls : número de seguidores;\n",
    "                       frds : número de amigos;\n",
    "                       twts : número de tweets;\n",
    "                       favs : número de favoritagens.\\n''')\n",
    "        if ind not in cols.keys():\n",
    "            print('Valor não aceito!\\n')\n",
    "    \n",
    "    param = cols.get(ind)\n",
    "    \n",
    "    df_plot = df.set_index('screen_name').nlargest(top, param)\n",
    "    df_plot.sort_values(param)[cols.values()].plot(kind='barh', \n",
    "                                                   figsize=[l, h], \n",
    "                                                   #width = .8,\n",
    "                                                   grid = True\n",
    "                                                    )\n",
    "    if table:\n",
    "            return df_plot[cols.values()].style.background_gradient(cmap='Greens')\n",
    "            \n",
    "    plt.title('Top {} por {}'.format(top, param))    \n",
    "    plt.ylabel('')\n",
    "    plt.show()"
   ]
  },
  {
   "cell_type": "markdown",
   "metadata": {},
   "source": [
    "* Exemplo:"
   ]
  },
  {
   "cell_type": "code",
   "execution_count": 21,
   "metadata": {
    "ExecuteTime": {
     "end_time": "2020-08-17T02:34:30.987718Z",
     "start_time": "2020-08-17T02:34:28.618518Z"
    }
   },
   "outputs": [
    {
     "name": "stdout",
     "output_type": "stream",
     "text": [
      "Digite um dos valores para organizar o plot:\n",
      "                       flls : número de seguidores;\n",
      "                       frds : número de amigos;\n",
      "                       twts : número de tweets;\n",
      "                       favs : número de favoritagens.\n",
      "flls\n"
     ]
    },
    {
     "data": {
      "image/png": "[encoded data removed]",
      "text/plain": [
       "<Figure size 1800x792 with 1 Axes>"
      ]
     },
     "metadata": {
      "needs_background": "light"
     },
     "output_type": "display_data"
    }
   ],
   "source": [
    "df = seguidores_em_comum\n",
    "\n",
    "plot_tt_top(df,            #Dataframe com dados do twitter \n",
    "            top = 5,       #Tamanho do top por parâmetro definido\n",
    "            table = False  #Exibe ou não tabela de resumo dos dados\n",
    "           )\n",
    "\n",
    "#PS.: Dois cliques para ampliar o gráfico!"
   ]
  },
  {
   "cell_type": "markdown",
   "metadata": {},
   "source": [
    "# Pesquisas no twitter"
   ]
  },
  {
   "cell_type": "code",
   "execution_count": 14,
   "metadata": {
    "ExecuteTime": {
     "end_time": "2020-08-17T20:39:15.822064Z",
     "start_time": "2020-08-17T20:39:15.095115Z"
    }
   },
   "outputs": [],
   "source": [
    "# --Criar função e controlar número de solicitações!\n",
    "tts = []\n",
    "for tweet in tweepy.Cursor(tt.search,\n",
    "                           q=\"biscoito\"\n",
    "                           ,since=\"2020-08-17\"\n",
    "                          # ,until=\"2020-08-06\"\n",
    "                         #  ,lang=\"pt\"\n",
    "                          ).items(5): #Retornando apenas 5 tweets\n",
    "    try:\n",
    "        tts.append(list((tweet.created_at, tweet.text)))\n",
    "    except tweepy.TweepError:\n",
    "        time.sleep(60 * 15)\n",
    "        count_down(60 * 15)\n",
    "        continue\n",
    "    except StopIteration:\n",
    "        break\n",
    "    "
   ]
  },
  {
   "cell_type": "code",
   "execution_count": 15,
   "metadata": {
    "ExecuteTime": {
     "end_time": "2020-08-17T20:39:18.186270Z",
     "start_time": "2020-08-17T20:39:18.174277Z"
    }
   },
   "outputs": [
    {
     "data": {
      "text/plain": [
       "[[datetime.datetime(2020, 8, 17, 20, 38, 46),\n",
       "  'biscoito pra yuki chavosa pf https://t.co/FwvBlxmZLV'],\n",
       " [datetime.datetime(2020, 8, 17, 20, 38, 42),\n",
       "  'RT @LorannyBL: Lorenna tá comendo biscoito deitada igual patroa 🤣🤣 \\nEssa menina é um abuso'],\n",
       " [datetime.datetime(2020, 8, 17, 20, 38, 38),\n",
       "  'RT @gangsterdudaa: EXPOSED\\nretuitem e façam esse EXPOSED chegar em geral \\n\\nOntem a noite peguei um uber (Dalton Camara de souza, placa PVL…'],\n",
       " [datetime.datetime(2020, 8, 17, 20, 38, 33),\n",
       "  'vou comer biscoito de morango com iogurte de morango'],\n",
       " [datetime.datetime(2020, 8, 17, 20, 38, 31),\n",
       "  'Tou observando a militância da maioria por um caso que repercutiu nacionalmente, por puro biscoito. E quando aconte… https://t.co/uB0TF2lvvD']]"
      ]
     },
     "execution_count": 15,
     "metadata": {},
     "output_type": "execute_result"
    }
   ],
   "source": [
    "tts"
   ]
  }
 ],
 "metadata": {
  "kernelspec": {
   "display_name": "Python 3",
   "language": "python",
   "name": "python3"
  },
  "language_info": {
   "codemirror_mode": {
    "name": "ipython",
    "version": 3
   },
   "file_extension": ".py",
   "mimetype": "text/x-python",
   "name": "python",
   "nbconvert_exporter": "python",
   "pygments_lexer": "ipython3",
   "version": "3.8.5"
  },
  "toc": {
   "base_numbering": 1,
   "nav_menu": {},
   "number_sections": true,
   "sideBar": true,
   "skip_h1_title": false,
   "title_cell": "Table of Contents",
   "title_sidebar": "Contents",
   "toc_cell": false,
   "toc_position": {},
   "toc_section_display": true,
   "toc_window_display": true
  }
 },
 "nbformat": 4,
 "nbformat_minor": 4
}
