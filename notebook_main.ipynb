{
 "cells": [
  {
   "cell_type": "markdown",
   "metadata": {},
   "source": [
    "# Imports"
   ]
  },
  {
   "cell_type": "code",
   "execution_count": 1,
   "metadata": {
    "ExecuteTime": {
     "end_time": "2020-08-17T21:47:34.632993Z",
     "start_time": "2020-08-17T21:47:33.429041Z"
    },
    "nteract": {
     "transient": {
      "deleting": false
     }
    },
    "scrolled": true
   },
   "outputs": [],
   "source": [
    "import pandas as pd\n",
    "import time\n",
    "\n",
    "from tqdm.notebook import tqdm\n",
    "from IPython.display import clear_output\n",
    "\n",
    "import matplotlib.pyplot as plt\n",
    "import seaborn as sns\n",
    "\n",
    "import tweepy\n",
    "#from auth import auth #Inserir autenticação no arquivo auth.py\n",
    "from grabel_auth import auth\n",
    "\n",
    "import warnings\n",
    "warnings.filterwarnings('ignore')"
   ]
  },
  {
   "cell_type": "markdown",
   "metadata": {},
   "source": [
    "# API object"
   ]
  },
  {
   "cell_type": "markdown",
   "metadata": {},
   "source": [
    "* [AUTENTICAÇÕES DO TWITTER](https://bhaskarvk.github.io/2015/01/how-to-use-twitters-search-rest-api-most-effectively./#:~:text=Application%20only%20auth%20has%20higher,Auth%20using%20the%20Tweepy%20API.)"
   ]
  },
  {
   "cell_type": "code",
   "execution_count": 2,
   "metadata": {
    "ExecuteTime": {
     "end_time": "2020-08-17T21:47:40.611393Z",
     "start_time": "2020-08-17T21:47:40.607399Z"
    },
    "nteract": {
     "transient": {
      "deleting": false
     }
    }
   },
   "outputs": [],
   "source": [
    "tt = auth()"
   ]
  },
  {
   "cell_type": "markdown",
   "metadata": {},
   "source": [
    "# Functions"
   ]
  },
  {
   "cell_type": "markdown",
   "metadata": {
    "ExecuteTime": {
     "end_time": "2020-08-17T20:36:31.157980Z",
     "start_time": "2020-08-17T20:36:31.142341Z"
    }
   },
   "source": [
    "## count_down"
   ]
  },
  {
   "cell_type": "code",
   "execution_count": 3,
   "metadata": {
    "ExecuteTime": {
     "end_time": "2020-08-17T21:47:42.539464Z",
     "start_time": "2020-08-17T21:47:42.534450Z"
    }
   },
   "outputs": [],
   "source": [
    "# count down\n",
    "def count_down(tempo):\n",
    "    while tempo:\n",
    "        mins, secs = divmod(tempo, 60)\n",
    "        timeformat = '{:02d}:{:02d}'.format(mins, secs)\n",
    "        print(timeformat, end='\\r')\n",
    "        time.sleep(1)\n",
    "        tempo -= 1"
   ]
  },
  {
   "cell_type": "code",
   "execution_count": 4,
   "metadata": {
    "ExecuteTime": {
     "end_time": "2020-08-17T21:47:46.599959Z",
     "start_time": "2020-08-17T21:47:43.558898Z"
    }
   },
   "outputs": [
    {
     "name": "stdout",
     "output_type": "stream",
     "text": [
      "00:01\r"
     ]
    }
   ],
   "source": [
    "count_down(3)"
   ]
  },
  {
   "cell_type": "markdown",
   "metadata": {},
   "source": [
    "## get_followers_id()"
   ]
  },
  {
   "cell_type": "code",
   "execution_count": 5,
   "metadata": {
    "ExecuteTime": {
     "end_time": "2020-08-17T21:47:48.286077Z",
     "start_time": "2020-08-17T21:47:48.279080Z"
    }
   },
   "outputs": [],
   "source": [
    "# get_followers_id()\n",
    "\n",
    "def get_followers_ids(perfil_analisado):\n",
    "    '''Recebe um nome de perfil do twitter e retorna serie com ids dos seguidores'''\n",
    "    ids = []\n",
    "    my_pages = tweepy.Cursor(tt.followers_ids, screen_name=perfil_analisado).pages()\n",
    "    while True:\n",
    "        try:\n",
    "            page = my_pages.next()\n",
    "            ids.extend(page)\n",
    "            time.sleep(2)\n",
    "        except tweepy.TweepError:\n",
    "                tempo = (60 * 15) #15 min\n",
    "                time.sleep(tempo)\n",
    "                print('oi')\n",
    "                while tempo:\n",
    "                    mins, secs = divmod(tempo, 60)\n",
    "                    timeformat = '{:02d}:{:02d}'.format(mins, secs)\n",
    "                    print(timeformat, end='\\r')\n",
    "                    time.sleep(1)\n",
    "                    tempo -= 1 #não está printando a contagem regressiva!\n",
    "                continue\n",
    "        except StopIteration:\n",
    "            break\n",
    "  \n",
    "    return pd.DataFrame(ids, columns=['followers_ids'])['followers_ids']\n"
   ]
  },
  {
   "cell_type": "markdown",
   "metadata": {},
   "source": [
    "* Exemplo:"
   ]
  },
  {
   "cell_type": "code",
   "execution_count": 6,
   "metadata": {
    "ExecuteTime": {
     "end_time": "2020-08-17T21:48:01.261011Z",
     "start_time": "2020-08-17T21:47:58.830889Z"
    }
   },
   "outputs": [
    {
     "data": {
      "text/plain": [
       "pandas.core.series.Series"
      ]
     },
     "execution_count": 6,
     "metadata": {},
     "output_type": "execute_result"
    }
   ],
   "source": [
    "followers = get_followers_ids('grabel')\n",
    "type(followers)"
   ]
  },
  {
   "cell_type": "markdown",
   "metadata": {},
   "source": [
    "## get_users_data()"
   ]
  },
  {
   "cell_type": "code",
   "execution_count": 7,
   "metadata": {
    "ExecuteTime": {
     "end_time": "2020-08-17T21:48:03.866851Z",
     "start_time": "2020-08-17T21:48:03.847773Z"
    }
   },
   "outputs": [],
   "source": [
    "# get_users_data()\n",
    "def get_users_data(lista_ids):\n",
    "    '''Recebe lista ou serie de ids e retorna nomes de perfis do twitter'''\n",
    "    followers = pd.DataFrame()\n",
    "    while len(lista_ids)>len(followers):\n",
    "        try:\n",
    "            for tt_id in tqdm(lista_ids):\n",
    "                df = pd.DataFrame(tt.get_user(tt_id)._json)\n",
    "                df = df.loc[['description'],['id_str','name','screen_name','profile_image_url_https',\n",
    "                                             'description','statuses_count','friends_count','followers_count',\n",
    "                                             'favourites_count','location','created_at','protected','lang']].rename(\n",
    "                                                                                    columns={\n",
    "                                                                                              'statuses_count':'tweets_count',\n",
    "                                                                                              'id_str':'profile_id'\n",
    "                                                                                              })\n",
    "                followers = pd.concat([followers, df], axis = 0, ignore_index=True)  \n",
    "                time.sleep(.5)\n",
    "                \n",
    "        except tweepy.TweepError:\n",
    "                tempo = (60 * 15) #15 min\n",
    "                time.sleep(tempo)\n",
    "                count_down(tempo)\n",
    "                continue\n",
    "        except StopIteration:\n",
    "            break\n",
    "        \n",
    "    return followers"
   ]
  },
  {
   "cell_type": "markdown",
   "metadata": {},
   "source": [
    "* Exemplo:"
   ]
  },
  {
   "cell_type": "code",
   "execution_count": 8,
   "metadata": {
    "ExecuteTime": {
     "end_time": "2020-08-17T21:40:35.604205Z",
     "start_time": "2020-08-17T21:40:33.659999Z"
    }
   },
   "outputs": [
    {
     "data": {
      "application/vnd.jupyter.widget-view+json": {
       "model_id": "281d12f8aa22405fb4cf17ad880af872",
       "version_major": 2,
       "version_minor": 0
      },
      "text/plain": [
       "HBox(children=(FloatProgress(value=0.0, max=2.0), HTML(value='')))"
      ]
     },
     "metadata": {},
     "output_type": "display_data"
    },
    {
     "name": "stdout",
     "output_type": "stream",
     "text": [
      "\n",
      "<class 'pandas.core.frame.DataFrame'>\n",
      "RangeIndex: 2 entries, 0 to 1\n",
      "Data columns (total 13 columns):\n",
      " #   Column                   Non-Null Count  Dtype \n",
      "---  ------                   --------------  ----- \n",
      " 0   profile_id               2 non-null      object\n",
      " 1   name                     2 non-null      object\n",
      " 2   screen_name              2 non-null      object\n",
      " 3   profile_image_url_https  2 non-null      object\n",
      " 4   description              2 non-null      object\n",
      " 5   tweets_count             2 non-null      int64 \n",
      " 6   friends_count            2 non-null      int64 \n",
      " 7   followers_count          2 non-null      int64 \n",
      " 8   favourites_count         2 non-null      int64 \n",
      " 9   location                 2 non-null      object\n",
      " 10  created_at               2 non-null      object\n",
      " 11  protected                2 non-null      bool  \n",
      " 12  lang                     0 non-null      object\n",
      "dtypes: bool(1), int64(4), object(8)\n",
      "memory usage: 322.0+ bytes\n"
     ]
    }
   ],
   "source": [
    "df_users = get_users_data(followers[:2])\n",
    "df_users.info()"
   ]
  },
  {
   "cell_type": "markdown",
   "metadata": {},
   "source": [
    "## get_followers_data()"
   ]
  },
  {
   "cell_type": "code",
   "execution_count": 9,
   "metadata": {
    "ExecuteTime": {
     "end_time": "2020-08-17T21:48:22.237079Z",
     "start_time": "2020-08-17T21:48:22.234062Z"
    }
   },
   "outputs": [],
   "source": [
    "# get_followers_data()\n",
    "def get_followers_data(perfil_analisado):\n",
    "    '''Recebe perfil e retorna dataframe com dados das páginas dos seguidores'''\n",
    "    df_fol = get_followers_ids(perfil_analisado)\n",
    "    return get_users_data(df_fol)"
   ]
  },
  {
   "cell_type": "markdown",
   "metadata": {},
   "source": [
    "* Exemplo:"
   ]
  },
  {
   "cell_type": "code",
   "execution_count": 10,
   "metadata": {
    "ExecuteTime": {
     "end_time": "2020-08-17T21:43:24.456575Z",
     "start_time": "2020-08-17T21:40:35.612200Z"
    }
   },
   "outputs": [
    {
     "data": {
      "application/vnd.jupyter.widget-view+json": {
       "model_id": "2553d304581d4f1b9cc2138b2a852038",
       "version_major": 2,
       "version_minor": 0
      },
      "text/plain": [
       "HBox(children=(FloatProgress(value=0.0, max=172.0), HTML(value='')))"
      ]
     },
     "metadata": {},
     "output_type": "display_data"
    },
    {
     "name": "stdout",
     "output_type": "stream",
     "text": [
      "\n",
      "<class 'pandas.core.frame.DataFrame'>\n",
      "RangeIndex: 172 entries, 0 to 171\n",
      "Data columns (total 13 columns):\n",
      " #   Column                   Non-Null Count  Dtype \n",
      "---  ------                   --------------  ----- \n",
      " 0   profile_id               172 non-null    object\n",
      " 1   name                     172 non-null    object\n",
      " 2   screen_name              172 non-null    object\n",
      " 3   profile_image_url_https  172 non-null    object\n",
      " 4   description              172 non-null    object\n",
      " 5   tweets_count             172 non-null    int64 \n",
      " 6   friends_count            172 non-null    int64 \n",
      " 7   followers_count          172 non-null    int64 \n",
      " 8   favourites_count         172 non-null    int64 \n",
      " 9   location                 172 non-null    object\n",
      " 10  created_at               172 non-null    object\n",
      " 11  protected                172 non-null    bool  \n",
      " 12  lang                     0 non-null      object\n",
      "dtypes: bool(1), int64(4), object(8)\n",
      "memory usage: 16.4+ KB\n"
     ]
    }
   ],
   "source": [
    "df_followers = get_followers_data('grabel')\n",
    "df_followers.info()"
   ]
  },
  {
   "cell_type": "markdown",
   "metadata": {},
   "source": [
    "## get_seguidores_iguais()"
   ]
  },
  {
   "cell_type": "code",
   "execution_count": 11,
   "metadata": {
    "ExecuteTime": {
     "end_time": "2020-08-17T21:48:39.009070Z",
     "start_time": "2020-08-17T21:48:39.003073Z"
    }
   },
   "outputs": [],
   "source": [
    "# get_seguidores_iguais()\n",
    "def get_seguidores_iguais(*tt_users):\n",
    "    '''Recebe nomes de perfis do twitter e retorna serie com seguidores em comum.'''\n",
    "    \n",
    "    tt_users = list(tt_users) \n",
    "    print('Perfis a filtrar:', len(tt_users))\n",
    "    if len(tt_users)>=2:\n",
    "                    \n",
    "        fols_user1 = get_followers_ids(tt_users.pop(0))\n",
    "        \n",
    "        clear_output(wait=True)\n",
    "        print('Perfis a filtrar:', len(tt_users))\n",
    "        fols_user2 = get_followers_ids(tt_users.pop(0))\n",
    "        df_both = pd.merge(fols_user2, fols_user1, how = 'inner', on='followers_ids')\n",
    "        \n",
    "        while len(tt_users)>=1:\n",
    "            \n",
    "            clear_output(wait=True)\n",
    "            print('Perfis a filtrar:', len(tt_users))\n",
    "            \n",
    "            fols_userx = get_followers_ids(tt_users.pop(0))\n",
    "            df_both = pd.merge(df_both, fols_userx, how='inner', on ='followers_ids')\n",
    "           \n",
    "        clear_output(wait=True)\n",
    "        print('Seguidores em comum: ', len(df_both))\n",
    "        \n",
    "    return get_users_data(df_both['followers_ids'])  "
   ]
  },
  {
   "cell_type": "markdown",
   "metadata": {},
   "source": [
    "* Exemplo:"
   ]
  },
  {
   "cell_type": "code",
   "execution_count": 12,
   "metadata": {
    "ExecuteTime": {
     "end_time": "2020-08-17T21:49:19.918911Z",
     "start_time": "2020-08-17T21:48:44.963005Z"
    }
   },
   "outputs": [
    {
     "name": "stdout",
     "output_type": "stream",
     "text": [
      "Seguidores em comum:  31\n"
     ]
    },
    {
     "data": {
      "application/vnd.jupyter.widget-view+json": {
       "model_id": "151f404eeab34f0096b67acdd61ebd35",
       "version_major": 2,
       "version_minor": 0
      },
      "text/plain": [
       "HBox(children=(FloatProgress(value=0.0, max=31.0), HTML(value='')))"
      ]
     },
     "metadata": {},
     "output_type": "display_data"
    },
    {
     "name": "stdout",
     "output_type": "stream",
     "text": [
      "\n"
     ]
    }
   ],
   "source": [
    "seguidores_em_comum = get_seguidores_iguais('twitter_1',\n",
    "                                            'twitter_2',\n",
    "                                            'twitter_n'\n",
    "                                             )"
   ]
  },
  {
   "cell_type": "code",
   "execution_count": 13,
   "metadata": {
    "ExecuteTime": {
     "end_time": "2020-08-17T21:50:15.381142Z",
     "start_time": "2020-08-17T21:50:15.371134Z"
    }
   },
   "outputs": [
    {
     "name": "stdout",
     "output_type": "stream",
     "text": [
      "<class 'pandas.core.frame.DataFrame'>\n",
      "RangeIndex: 31 entries, 0 to 30\n",
      "Data columns (total 13 columns):\n",
      " #   Column                   Non-Null Count  Dtype \n",
      "---  ------                   --------------  ----- \n",
      " 0   profile_id               31 non-null     object\n",
      " 1   name                     31 non-null     object\n",
      " 2   screen_name              31 non-null     object\n",
      " 3   profile_image_url_https  31 non-null     object\n",
      " 4   description              31 non-null     object\n",
      " 5   tweets_count             31 non-null     int64 \n",
      " 6   friends_count            31 non-null     int64 \n",
      " 7   followers_count          31 non-null     int64 \n",
      " 8   favourites_count         31 non-null     int64 \n",
      " 9   location                 31 non-null     object\n",
      " 10  created_at               31 non-null     object\n",
      " 11  protected                31 non-null     bool  \n",
      " 12  lang                     0 non-null      object\n",
      "dtypes: bool(1), int64(4), object(8)\n",
      "memory usage: 3.1+ KB\n"
     ]
    }
   ],
   "source": [
    "seguidores_em_comum.info()"
   ]
  },
  {
   "cell_type": "markdown",
   "metadata": {},
   "source": [
    "## plot_tt_top()"
   ]
  },
  {
   "cell_type": "code",
   "execution_count": 14,
   "metadata": {
    "ExecuteTime": {
     "end_time": "2020-08-17T21:50:22.646889Z",
     "start_time": "2020-08-17T21:50:22.638893Z"
    }
   },
   "outputs": [],
   "source": [
    "# plot_tt_top()\n",
    "def plot_tt_top(df = [], top=10, table = False):\n",
    "        \n",
    "    l = 25\n",
    "    h = min(top*2.2, 150)\n",
    "    cols = {'flls':'followers_count',\n",
    "            'frds':'friends_count',\n",
    "            'twts':'tweets_count',\n",
    "            'favs':'favourites_count'}\n",
    "    \n",
    "    ind = \"?\"\n",
    "    while ind not in cols.keys():\n",
    "        ind = input('''Digite um dos valores para organizar o plot:\n",
    "                       flls : número de seguidores;\n",
    "                       frds : número de amigos;\n",
    "                       twts : número de tweets;\n",
    "                       favs : número de favoritagens.\\n''')\n",
    "        if ind not in cols.keys():\n",
    "            print('Valor não aceito!\\n')\n",
    "    \n",
    "    param = cols.get(ind)\n",
    "    \n",
    "    df_plot = df.set_index('screen_name').nlargest(top, param)\n",
    "    df_plot.sort_values(param)[cols.values()].plot(kind='barh', \n",
    "                                                   figsize=[l, h], \n",
    "                                                   #width = .8,\n",
    "                                                   grid = True\n",
    "                                                    )\n",
    "    if table:\n",
    "            return df_plot[cols.values()].style.background_gradient(cmap='Greens')\n",
    "            \n",
    "    plt.title('Top {} por {}'.format(top, param))    \n",
    "    plt.ylabel('')\n",
    "    plt.show()"
   ]
  },
  {
   "cell_type": "markdown",
   "metadata": {},
   "source": [
    "* Exemplo:"
   ]
  },
  {
   "cell_type": "code",
   "execution_count": 15,
   "metadata": {
    "ExecuteTime": {
     "end_time": "2020-08-17T21:50:31.492704Z",
     "start_time": "2020-08-17T21:50:24.854903Z"
    }
   },
   "outputs": [
    {
     "name": "stdout",
     "output_type": "stream",
     "text": [
      "Digite um dos valores para organizar o plot:\n",
      "                       flls : número de seguidores;\n",
      "                       frds : número de amigos;\n",
      "                       twts : número de tweets;\n",
      "                       favs : número de favoritagens.\n",
      "favs\n"
     ]
    },
    {
     "data": {
      "image/png": "[encoded data removed]",
      "text/plain": [
       "<Figure size 1800x792 with 1 Axes>"
      ]
     },
     "metadata": {
      "needs_background": "light"
     },
     "output_type": "display_data"
    }
   ],
   "source": [
    "df = seguidores_em_comum\n",
    "\n",
    "plot_tt_top(df,            #Dataframe com dados do twitter \n",
    "            top = 5,       #Tamanho do top por parâmetro definido\n",
    "            table = False  #Exibe ou não tabela de resumo dos dados\n",
    "           )\n",
    "\n",
    "#PS.: I hid the names for privacy reasons"
   ]
  },
  {
   "cell_type": "markdown",
   "metadata": {},
   "source": [
    "# Pesquisas no twitter"
   ]
  },
  {
   "cell_type": "code",
   "execution_count": 16,
   "metadata": {
    "ExecuteTime": {
     "end_time": "2020-08-17T21:50:55.112929Z",
     "start_time": "2020-08-17T21:50:54.255009Z"
    }
   },
   "outputs": [],
   "source": [
    "# --Criar função e controlar número de solicitações!\n",
    "tts = []\n",
    "for tweet in tweepy.Cursor(tt.search,\n",
    "                           q=\"biscoito\"\n",
    "                           ,since=\"2020-08-17\"\n",
    "                          # ,until=\"2020-08-06\"\n",
    "                         #  ,lang=\"pt\"\n",
    "                          ).items(5): #Only 5 tweets\n",
    "    try:\n",
    "        tts.append(list((tweet.created_at, tweet.text)))\n",
    "    except tweepy.TweepError:\n",
    "        time.sleep(60 * 15)\n",
    "        count_down(60 * 15)\n",
    "        continue\n",
    "    except StopIteration:\n",
    "        break\n",
    "    "
   ]
  },
  {
   "cell_type": "code",
   "execution_count": 17,
   "metadata": {
    "ExecuteTime": {
     "end_time": "2020-08-17T21:50:57.321891Z",
     "start_time": "2020-08-17T21:50:57.317893Z"
    }
   },
   "outputs": [
    {
     "data": {
      "text/plain": [
       "[[datetime.datetime(2020, 8, 17, 21, 50, 46),\n",
       "  'A gente ganhou mais um biscoito pra encerrar a noite. 🤩 https://t.co/NoVl3aJpno'],\n",
       " [datetime.datetime(2020, 8, 17, 21, 50, 44),\n",
       "  '@mirimemiri meu segredo é um biscoito da golden que tem quadradinhos. eu corto o comprimido e enfio lá, o besta com… https://t.co/VbZcwqy9ZR'],\n",
       " [datetime.datetime(2020, 8, 17, 21, 50, 34),\n",
       "  'RT @detailscatra: olha oq eu fiz👉👈\\n\\nda biscoito pfvv🥺🥺 https://t.co/ia3AZWZL1U'],\n",
       " [datetime.datetime(2020, 8, 17, 21, 50, 34),\n",
       "  'sig é um ser muito ligeiro\\ntoda vez q ele deixa eu secar a pata dele eu dou um biscoito, agora de pouco ele saiu, d… https://t.co/m1TVapqVtR'],\n",
       " [datetime.datetime(2020, 8, 17, 21, 50, 18),\n",
       "  'RT @_eloisabrito: @Mn_biscoito O brabo é tu, filho!!! ♥']]"
      ]
     },
     "execution_count": 17,
     "metadata": {},
     "output_type": "execute_result"
    }
   ],
   "source": [
    "tts"
   ]
  }
 ],
 "metadata": {
  "kernelspec": {
   "display_name": "Python 3",
   "language": "python",
   "name": "python3"
  },
  "language_info": {
   "codemirror_mode": {
    "name": "ipython",
    "version": 3
   },
   "file_extension": ".py",
   "mimetype": "text/x-python",
   "name": "python",
   "nbconvert_exporter": "python",
   "pygments_lexer": "ipython3",
   "version": "3.8.5"
  },
  "toc": {
   "base_numbering": 1,
   "nav_menu": {},
   "number_sections": true,
   "sideBar": true,
   "skip_h1_title": false,
   "title_cell": "Table of Contents",
   "title_sidebar": "Contents",
   "toc_cell": false,
   "toc_position": {},
   "toc_section_display": true,
   "toc_window_display": true
  }
 },
 "nbformat": 4,
 "nbformat_minor": 4
}
